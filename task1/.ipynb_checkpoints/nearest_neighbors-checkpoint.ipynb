{
 "cells": [
  {
   "cell_type": "code",
   "execution_count": 1,
   "metadata": {},
   "outputs": [],
   "source": [
    "# подключаем разрешенные библиотеки\n",
    "from sklearn.datasets import fetch_openml\n",
    "import numpy as np\n",
    "import matplotlib.pyplot as plt\n",
    "import random\n",
    "\n",
    "# подключаем наши модулю\n",
    "import NearestNeighbors as knn\n",
    "import CrossValidation as cv"
   ]
  },
  {
   "cell_type": "code",
   "execution_count": 2,
   "metadata": {},
   "outputs": [
    {
     "name": "stdout",
     "output_type": "stream",
     "text": [
      "Мы имеем 70000 объектов, каждый из которых содержит 784 признака\n"
     ]
    }
   ],
   "source": [
    "# загружаем объекты\n",
    "X, y = fetch_openml('mnist_784', version=1, return_X_y=True)\n",
    "# преобразуем строки в int\n",
    "y = y.astype(np.int)\n",
    "\n",
    "print(\"Мы имеем %d объектов, каждый из которых содержит %d признака\" % (X.shape[0], X.shape[1]))"
   ]
  },
  {
   "cell_type": "code",
   "execution_count": 3,
   "metadata": {},
   "outputs": [],
   "source": [
    "# разбиваем на обучающую и тестовую выборки\n",
    "train_X = X[0:60000]\n",
    "train_y = y[0:60000]\n",
    "validation_X = X[60000:70000]\n",
    "validation_y = y[60000:70000]"
   ]
  },
  {
   "cell_type": "code",
   "execution_count": 4,
   "metadata": {},
   "outputs": [
    {
     "data": {
      "image/png": "[encoded data removed]",
      "text/plain": [
       "<Figure size 432x288 with 1 Axes>"
      ]
     },
     "metadata": {
      "needs_background": "light"
     },
     "output_type": "display_data"
    }
   ],
   "source": [
    "# посмотрим на случайный объект из валидационной выборки\n",
    "randObj = random.randint(0, len(validation_X))\n",
    "plt.imshow(validation_X[randObj].reshape((28, 28)), cmap='gray')\n",
    "plt.show()"
   ]
  },
  {
   "cell_type": "code",
   "execution_count": 5,
   "metadata": {},
   "outputs": [
    {
     "data": {
      "text/plain": [
       "4"
      ]
     },
     "execution_count": 5,
     "metadata": {},
     "output_type": "execute_result"
    }
   ],
   "source": [
    "# и его целевое знаение\n",
    "validation_y[randObj]"
   ]
  },
  {
   "cell_type": "code",
   "execution_count": 6,
   "metadata": {},
   "outputs": [
    {
     "data": {
      "text/plain": [
       "NearestNeighbors(algorithm='brute', leaf_size=30, metric='minkowski',\n",
       "         metric_params=None, n_jobs=None,\n",
       "         n_neighbors=array([[0., 0., ..., 0., 0.],\n",
       "       [0., 0., ..., 0., 0.],\n",
       "       ...,\n",
       "       [0., 0., ..., 0., 0.],\n",
       "       [0., 0., ..., 0., 0.]]),\n",
       "         p=2, radius=1.0)"
      ]
     },
     "execution_count": 6,
     "metadata": {},
     "output_type": "execute_result"
    }
   ],
   "source": [
    "classifier = knn.KNNClassifier(\n",
    "    k = 5, \n",
    "    strategy = 'brute', \n",
    "    metric = 'euclidean', \n",
    "    weights = False,    \n",
    "    test_block_size = 10\n",
    ")\n",
    "classifier.fit(train_X, train_y)\n",
    "\n",
    "classifier.find_kneighbors(validation_X)"
   ]
  },
  {
   "cell_type": "code",
   "execution_count": null,
   "metadata": {},
   "outputs": [],
   "source": []
  }
 ],
 "metadata": {
  "kernelspec": {
   "display_name": "Python 3",
   "language": "python",
   "name": "python3"
  },
  "language_info": {
   "codemirror_mode": {
    "name": "ipython",
    "version": 3
   },
   "file_extension": ".py",
   "mimetype": "text/x-python",
   "name": "python",
   "nbconvert_exporter": "python",
   "pygments_lexer": "ipython3",
   "version": "3.7.3"
  }
 },
 "nbformat": 4,
 "nbformat_minor": 2
}
