{
 "cells": [
  {
   "cell_type": "markdown",
   "metadata": {},
   "source": [
    "## Машинное обучение, ВМК МГУ\n",
    "\n",
    "## Практическое задание 2\n",
    "\n",
    "### Общая информация\n",
    "Дата выдачи: 9 октября 2019\n",
    "\n",
    "Максимальная оценка: 10 баллов + 1 бонусный балл\n",
    "\n",
    "Мягкий дедлайн: 23:59MSK 23 октября (за каждый день просрочки снимается 1 балл)\n",
    "\n",
    "Жесткий дедлайн: 23:59MSK 30 октября."
   ]
  },
  {
   "cell_type": "markdown",
   "metadata": {},
   "source": [
    "### О задании\n",
    "\n",
    "В этом задании вы:\n",
    "- Познакомитесь с методом решения задачи регрессии на основе метода ближайших соседей.\n",
    "- Реализуете алгоритм kNN для задачи регрессии.\n",
    "- Изучите методы работы с категориальными и текстовыми переменными.\n",
    "\n",
    "\n",
    "### Оценивание и штрафы\n",
    "Каждая из задач имеет определенную «стоимость» (указана в скобках около задачи). Максимально допустимая оценка за работу — 10 баллов.\n",
    "\n",
    "Сдавать задание после указанного срока сдачи нельзя. При выставлении неполного балла за задание в связи с наличием ошибок на усмотрение проверяющего предусмотрена возможность исправить работу на указанных в ответном письме условиях.\n",
    "\n",
    "Задание выполняется самостоятельно. «Похожие» решения считаются плагиатом и все задействованные студенты (в том числе те, у кого списали) не могут получить за него больше 0 баллов (подробнее о плагиате см. на странице курса). Если вы нашли решение какого-то из заданий (или его часть) в открытом источнике, необходимо указать ссылку на этот источник в отдельном блоке в конце вашей работы (скорее всего вы будете не единственным, кто это нашел, поэтому чтобы исключить подозрение в плагиате, необходима ссылка на источник).\n",
    "\n",
    "Неэффективная реализация кода может негативно отразиться на оценке.\n",
    "\n",
    "\n",
    "### Формат сдачи\n",
    "Для сдачи задания переименуйте получившийся файл *.ipynb в соответствии со следующим форматом: homework-practice-02-Username.ipynb, где Username — ваша фамилия и имя на латинице именно в таком порядке (например, homework-practice-02-ivanov.ipynb).\n",
    "\n",
    "Далее отправьте этот файл на anytask в соответсвующий раздел."
   ]
  },
  {
   "cell_type": "code",
   "execution_count": 3,
   "metadata": {},
   "outputs": [],
   "source": [
    "import numpy as np\n",
    "import pandas as pd\n",
    "import random\n",
    "import scipy as sp\n",
    "import matplotlib.pyplot as plt\n",
    "from sklearn.metrics import mean_squared_error\n",
    "from sklearn.neighbors import KNeighborsRegressor\n",
    "\n",
    "from sklearn.feature_extraction.text import CountVectorizer\n",
    "from sklearn.feature_extraction.text import TfidfTransformer\n",
    "from sklearn.model_selection import KFold\n",
    "\n",
    "from sklearn.model_selection import train_test_split\n",
    "from sklearn.preprocessing import LabelEncoder\n",
    "from sklearn.preprocessing import OneHotEncoder\n",
    "from sklearn.preprocessing import MinMaxScaler\n",
    "\n",
    "from sklearn.linear_model import LogisticRegression"
   ]
  },
  {
   "cell_type": "code",
   "execution_count": 4,
   "metadata": {},
   "outputs": [],
   "source": [
    "# add status bar functionality\n",
    "\n",
    "import time, sys\n",
    "from IPython.display import clear_output\n",
    "\n",
    "def update_progress(progress):\n",
    "    bar_length = 20\n",
    "    if isinstance(progress, int):\n",
    "        progress = float(progress)\n",
    "    if not isinstance(progress, float):\n",
    "        progress = 0\n",
    "    if progress < 0:\n",
    "        progress = 0\n",
    "    if progress >= 1:\n",
    "        progress = 1\n",
    "\n",
    "    block = int(round(bar_length * progress))\n",
    "\n",
    "    clear_output(wait = True)\n",
    "    text = \"Progress: [{0}] {1:.1f}%\".format( \"#\" * block + \"-\" * (bar_length - block), progress * 100)\n",
    "    print(text)"
   ]
  },
  {
   "cell_type": "markdown",
   "metadata": {},
   "source": [
    "Все эксперименты в этой лабораторной работе предлагается проводить на данных соревнования New York City Airbnb Open Data: https://www.kaggle.com/dgomonov/new-york-city-airbnb-open-data#AB_NYC_2019.csv\n",
    "\n",
    "В данной задаче предлагается предсказать цену на съем квартиры в зависимости от её параметров."
   ]
  },
  {
   "cell_type": "code",
   "execution_count": 5,
   "metadata": {},
   "outputs": [
    {
     "data": {
      "text/html": [
       "<div>\n",
       "<style scoped>\n",
       "    .dataframe tbody tr th:only-of-type {\n",
       "        vertical-align: middle;\n",
       "    }\n",
       "\n",
       "    .dataframe tbody tr th {\n",
       "        vertical-align: top;\n",
       "    }\n",
       "\n",
       "    .dataframe thead th {\n",
       "        text-align: right;\n",
       "    }\n",
       "</style>\n",
       "<table border=\"1\" class=\"dataframe\">\n",
       "  <thead>\n",
       "    <tr style=\"text-align: right;\">\n",
       "      <th></th>\n",
       "      <th>id</th>\n",
       "      <th>name</th>\n",
       "      <th>host_id</th>\n",
       "      <th>host_name</th>\n",
       "      <th>neighbourhood_group</th>\n",
       "      <th>neighbourhood</th>\n",
       "      <th>latitude</th>\n",
       "      <th>longitude</th>\n",
       "      <th>room_type</th>\n",
       "      <th>price</th>\n",
       "      <th>minimum_nights</th>\n",
       "      <th>number_of_reviews</th>\n",
       "      <th>last_review</th>\n",
       "      <th>reviews_per_month</th>\n",
       "      <th>calculated_host_listings_count</th>\n",
       "      <th>availability_365</th>\n",
       "    </tr>\n",
       "  </thead>\n",
       "  <tbody>\n",
       "    <tr>\n",
       "      <td>0</td>\n",
       "      <td>2539</td>\n",
       "      <td>Clean &amp; quiet apt home by the park</td>\n",
       "      <td>2787</td>\n",
       "      <td>John</td>\n",
       "      <td>Brooklyn</td>\n",
       "      <td>Kensington</td>\n",
       "      <td>40.64749</td>\n",
       "      <td>-73.97237</td>\n",
       "      <td>Private room</td>\n",
       "      <td>149</td>\n",
       "      <td>1</td>\n",
       "      <td>9</td>\n",
       "      <td>2018-10-19</td>\n",
       "      <td>0.21</td>\n",
       "      <td>6</td>\n",
       "      <td>365</td>\n",
       "    </tr>\n",
       "    <tr>\n",
       "      <td>1</td>\n",
       "      <td>2595</td>\n",
       "      <td>Skylit Midtown Castle</td>\n",
       "      <td>2845</td>\n",
       "      <td>Jennifer</td>\n",
       "      <td>Manhattan</td>\n",
       "      <td>Midtown</td>\n",
       "      <td>40.75362</td>\n",
       "      <td>-73.98377</td>\n",
       "      <td>Entire home/apt</td>\n",
       "      <td>225</td>\n",
       "      <td>1</td>\n",
       "      <td>45</td>\n",
       "      <td>2019-05-21</td>\n",
       "      <td>0.38</td>\n",
       "      <td>2</td>\n",
       "      <td>355</td>\n",
       "    </tr>\n",
       "    <tr>\n",
       "      <td>2</td>\n",
       "      <td>3647</td>\n",
       "      <td>THE VILLAGE OF HARLEM....NEW YORK !</td>\n",
       "      <td>4632</td>\n",
       "      <td>Elisabeth</td>\n",
       "      <td>Manhattan</td>\n",
       "      <td>Harlem</td>\n",
       "      <td>40.80902</td>\n",
       "      <td>-73.94190</td>\n",
       "      <td>Private room</td>\n",
       "      <td>150</td>\n",
       "      <td>3</td>\n",
       "      <td>0</td>\n",
       "      <td>NaN</td>\n",
       "      <td>NaN</td>\n",
       "      <td>1</td>\n",
       "      <td>365</td>\n",
       "    </tr>\n",
       "    <tr>\n",
       "      <td>3</td>\n",
       "      <td>3831</td>\n",
       "      <td>Cozy Entire Floor of Brownstone</td>\n",
       "      <td>4869</td>\n",
       "      <td>LisaRoxanne</td>\n",
       "      <td>Brooklyn</td>\n",
       "      <td>Clinton Hill</td>\n",
       "      <td>40.68514</td>\n",
       "      <td>-73.95976</td>\n",
       "      <td>Entire home/apt</td>\n",
       "      <td>89</td>\n",
       "      <td>1</td>\n",
       "      <td>270</td>\n",
       "      <td>2019-07-05</td>\n",
       "      <td>4.64</td>\n",
       "      <td>1</td>\n",
       "      <td>194</td>\n",
       "    </tr>\n",
       "    <tr>\n",
       "      <td>4</td>\n",
       "      <td>5022</td>\n",
       "      <td>Entire Apt: Spacious Studio/Loft by central park</td>\n",
       "      <td>7192</td>\n",
       "      <td>Laura</td>\n",
       "      <td>Manhattan</td>\n",
       "      <td>East Harlem</td>\n",
       "      <td>40.79851</td>\n",
       "      <td>-73.94399</td>\n",
       "      <td>Entire home/apt</td>\n",
       "      <td>80</td>\n",
       "      <td>10</td>\n",
       "      <td>9</td>\n",
       "      <td>2018-11-19</td>\n",
       "      <td>0.10</td>\n",
       "      <td>1</td>\n",
       "      <td>0</td>\n",
       "    </tr>\n",
       "  </tbody>\n",
       "</table>\n",
       "</div>"
      ],
      "text/plain": [
       "     id                                              name  host_id  \\\n",
       "0  2539                Clean & quiet apt home by the park     2787   \n",
       "1  2595                             Skylit Midtown Castle     2845   \n",
       "2  3647               THE VILLAGE OF HARLEM....NEW YORK !     4632   \n",
       "3  3831                   Cozy Entire Floor of Brownstone     4869   \n",
       "4  5022  Entire Apt: Spacious Studio/Loft by central park     7192   \n",
       "\n",
       "     host_name neighbourhood_group neighbourhood  latitude  longitude  \\\n",
       "0         John            Brooklyn    Kensington  40.64749  -73.97237   \n",
       "1     Jennifer           Manhattan       Midtown  40.75362  -73.98377   \n",
       "2    Elisabeth           Manhattan        Harlem  40.80902  -73.94190   \n",
       "3  LisaRoxanne            Brooklyn  Clinton Hill  40.68514  -73.95976   \n",
       "4        Laura           Manhattan   East Harlem  40.79851  -73.94399   \n",
       "\n",
       "         room_type  price  minimum_nights  number_of_reviews last_review  \\\n",
       "0     Private room    149               1                  9  2018-10-19   \n",
       "1  Entire home/apt    225               1                 45  2019-05-21   \n",
       "2     Private room    150               3                  0         NaN   \n",
       "3  Entire home/apt     89               1                270  2019-07-05   \n",
       "4  Entire home/apt     80              10                  9  2018-11-19   \n",
       "\n",
       "   reviews_per_month  calculated_host_listings_count  availability_365  \n",
       "0               0.21                               6               365  \n",
       "1               0.38                               2               355  \n",
       "2                NaN                               1               365  \n",
       "3               4.64                               1               194  \n",
       "4               0.10                               1                 0  "
      ]
     },
     "execution_count": 5,
     "metadata": {},
     "output_type": "execute_result"
    }
   ],
   "source": [
    "data = pd.read_csv('AB_NYC_2019.csv')\n",
    "data.head()"
   ]
  },
  {
   "cell_type": "code",
   "execution_count": 6,
   "metadata": {},
   "outputs": [
    {
     "data": {
      "text/plain": [
       "(48895, 16)"
      ]
     },
     "execution_count": 6,
     "metadata": {},
     "output_type": "execute_result"
    }
   ],
   "source": [
    "data.shape"
   ]
  },
  {
   "cell_type": "code",
   "execution_count": 7,
   "metadata": {},
   "outputs": [
    {
     "name": "stdout",
     "output_type": "stream",
     "text": [
      "id 48895\n",
      "name 47906\n",
      "host_id 37457\n",
      "host_name 11453\n",
      "neighbourhood_group 5\n",
      "neighbourhood 221\n",
      "latitude 19048\n",
      "longitude 14718\n",
      "room_type 3\n",
      "price 674\n",
      "minimum_nights 109\n",
      "number_of_reviews 394\n",
      "last_review 1765\n",
      "reviews_per_month 938\n",
      "calculated_host_listings_count 47\n",
      "availability_365 366\n"
     ]
    }
   ],
   "source": [
    "# число значений у признаков\n",
    "for col_name in data.columns:\n",
    "    print(col_name, len(data[col_name].unique()))"
   ]
  },
  {
   "cell_type": "code",
   "execution_count": 8,
   "metadata": {},
   "outputs": [
    {
     "data": {
      "text/plain": [
       "id                                    0\n",
       "name                                 16\n",
       "host_id                               0\n",
       "host_name                            21\n",
       "neighbourhood_group                   0\n",
       "neighbourhood                         0\n",
       "latitude                              0\n",
       "longitude                             0\n",
       "room_type                             0\n",
       "price                                 0\n",
       "minimum_nights                        0\n",
       "number_of_reviews                     0\n",
       "last_review                       10052\n",
       "reviews_per_month                 10052\n",
       "calculated_host_listings_count        0\n",
       "availability_365                      0\n",
       "dtype: int64"
      ]
     },
     "execution_count": 8,
     "metadata": {},
     "output_type": "execute_result"
    }
   ],
   "source": [
    "data.isna().sum()"
   ]
  },
  {
   "cell_type": "markdown",
   "metadata": {},
   "source": [
    "Как видите, в данных есть пропуски. Не забудьте обработать их"
   ]
  },
  {
   "cell_type": "code",
   "execution_count": 9,
   "metadata": {},
   "outputs": [],
   "source": [
    "# конвертируем дату (строка) в число\n",
    "data['last_review'] = pd.to_datetime(data['last_review'].fillna(0)).astype(int)\n",
    "\n",
    "numberCols = data.select_dtypes(include=[np.number]).columns.tolist()\n",
    "numberCols.remove('id')\n",
    "numberCols.remove('price')\n",
    "data[numberCols] = data[numberCols].fillna(0)\n",
    "\n",
    "categoricalCols = ['neighbourhood_group', 'neighbourhood', 'room_type']\n",
    "data[categoricalCols] = data[categoricalCols].fillna('')\n",
    "\n",
    "textCols = ['name']\n",
    "data[textCols] = data[textCols].fillna('')"
   ]
  },
  {
   "cell_type": "markdown",
   "metadata": {},
   "source": [
    "Разобъем данные на обучение и контроль."
   ]
  },
  {
   "cell_type": "code",
   "execution_count": 10,
   "metadata": {
    "scrolled": false
   },
   "outputs": [],
   "source": [
    "from sklearn.model_selection import train_test_split\n",
    "X_train, X_test, y_train, y_test = train_test_split(data.drop(columns=['price']), data[['price']],\n",
    "                                                    test_size=0.3, random_state=241)"
   ]
  },
  {
   "cell_type": "markdown",
   "metadata": {},
   "source": [
    "## Часть 1: Алгоритм kNN в задаче регрессии"
   ]
  },
  {
   "cell_type": "markdown",
   "metadata": {},
   "source": [
    "<b> 1.1 (1.5 балла) </b>\n",
    "Реализуйте класс `KNNRegressor`, который используя метод k ближайших соседей решает задачу регрессии. Для решение данной задачи, необходимо найти $N_k$ - k соседей, и после использовать значения их целевых переменных для предсказания:\n",
    "\\begin{align}\n",
    "y = \\frac{1}{k}\\sum_{n \\in N_k}w_n y_n,\n",
    "\\end{align}\n",
    "\n",
    "где $w_n$ - вес каждого соседа. \n",
    "\n",
    "При этом `KNNRegressor` может работать в 2 режимах:\n",
    " - $uniform$ - ближайшие соседи учитываются с одинаковыми весами.\n",
    " - $distance$ - вес ближайших соседей зависит от расстояния\n",
    " \n",
    "Сигнатуру методов при желании можно менять."
   ]
  },
  {
   "cell_type": "code",
   "execution_count": 13,
   "metadata": {},
   "outputs": [],
   "source": [
    "from typing import Union, Callable, Iterable, Optional\n",
    "# from sklearn.neighbors import NearestNeighbors\n",
    "# from sklearn.neighbors import KNeighborsRegressor\n",
    "\n",
    "class KNNRegressor:\n",
    "    def __init__(self, n_neighbors: int, metric: Union[str, Callable], mode: str = 'uniform'):\n",
    "        \"\"\"\n",
    "        params:\n",
    "            n_neighbors: number of neighbors\n",
    "            metric: metric to use for distance computation\n",
    "            mode: 'uniform' or 'distance'\n",
    "            'uniform' - all points in each neighborhood are weighted equally\n",
    "            'distance' - weight points by the inverse of their distance\n",
    "        \"\"\"\n",
    "#         self.__nn = NearestNeighbors(n_neighbors = n_neighbors, metric = metric)\n",
    "#         self.__nnTest = KNeighborsRegressor(n_neighbors = n_neighbors, metric = metric, weights = mode)\n",
    "        self.__metric = metric\n",
    "        self.__mode = mode\n",
    "        self.__n_neighbors = n_neighbors\n",
    "\n",
    "    def fit(self, X: np.array, y: np.array) -> None:\n",
    "        \"\"\"\n",
    "            X: data\n",
    "            y: labels\n",
    "        \"\"\"\n",
    "        # Ваш код здесь\n",
    "        self.__X = X\n",
    "        self.__y = y\n",
    "#         self.__nn.fit(X, y)\n",
    "#         self.__nnTest.fit(X, y)\n",
    "        \n",
    "    def euclidean_distance(self, X, Y):\n",
    "        d = len(X[0])\n",
    "        res = np.zeros(len(X)*len(Y)).reshape(len(X), len(Y))\n",
    "        for x in range(len(X)):\n",
    "            for y in range(len(Y)):\n",
    "                sum = 0\n",
    "                for f in range(len(Y[y])):\n",
    "                    sum += (X[x][f] - Y[y][f])**2\n",
    "                res[x][y] = np.sqrt(sum)\n",
    "        return res;\n",
    "\n",
    "    def cosine_distance(self, X, Y):\n",
    "        sumyy = (Y**2).sum(1)\n",
    "        sumxx = (X**2).sum(1, keepdims=1)\n",
    "        sumxy = X.dot(Y.T)\n",
    "        return 1 - (sumxy / np.sqrt(sumxx)) / np.sqrt(sumyy)\n",
    "    \n",
    "    def overlap(self, X, Y):\n",
    "        res = []\n",
    "        res = np.zeros(len(X)*len(Y)).reshape(len(X), len(Y))\n",
    "        for x in range(len(X)):\n",
    "            for y in range(len(Y)):\n",
    "                dist = 0\n",
    "                for f in range(len(Y[y])):\n",
    "                    if (X[x][f] != Y[y][f]):\n",
    "                        dist = 1\n",
    "                        break\n",
    "                res[x][y] = dist\n",
    "        return res;\n",
    "\n",
    "    def flattened_overlap(self, X, Y):\n",
    "        # находим частоту признаков\n",
    "        freqs = {}\n",
    "        for col in range(X.shape[1]):\n",
    "            values, freq = np.unique(X[:,col], return_counts = True)\n",
    "            freqs[col] = {values[q]: freq[q] for q in range(len(values))} \n",
    "        \n",
    "        res = np.zeros(len(X)*len(Y)).reshape(len(X), len(Y))\n",
    "        for x in range(len(X)):\n",
    "            for y in range(len(Y)):\n",
    "                dist = 0\n",
    "                p = 0\n",
    "                for c in range(len(Y[y])):\n",
    "                    if (X[x][c] != Y[y][c]):\n",
    "                        dist = 1\n",
    "                        break\n",
    "                    else:\n",
    "                        dist = dist + (freqs[c][float(X[x][c])] * (freqs[c][float(X[x][c])] - 1)) / (len(X) * (len(X) - 1))\n",
    "                \n",
    "                res[x][y] = dist\n",
    "        return res;\n",
    "    \n",
    "    def log_overlap(self, X, Y):\n",
    "        \n",
    "        # находим частоту признаков\n",
    "        freqsX = {}\n",
    "        for col in range(X.shape[1]):\n",
    "            values, freq = np.unique(X[:,col], return_counts=True)\n",
    "            freqsX[col] = {values[q]: freq[q] for q in range(len(values))} \n",
    "\n",
    "        freqsY = {}\n",
    "        for col in range(Y.shape[1]):\n",
    "            values, freq = np.unique(Y[:,col], return_counts=True)\n",
    "            freqsY[col] = {values[q]: freq[q] for q in range(len(values))} \n",
    "        \n",
    "        res = np.zeros(len(X)*len(Y)).reshape(len(X), len(Y))\n",
    "        for x in range(len(X)):\n",
    "            for y in range(len(Y)):\n",
    "                dist = 0\n",
    "                for c in range(len(Y[y])):\n",
    "                    if (X[x][c] != Y[y][c]):\n",
    "                        dist = dist + np.log(1 + freqsX[c][float(X[x][c])]) * np.log(1 + freqsY[c][float(Y[x][c])])\n",
    "                \n",
    "                res[x][y] = dist\n",
    "        return res;\n",
    "\n",
    "    def find_kneighbors(self, X, return_distance = True):\n",
    "        \n",
    "        if (self.__metric == 'euclidean'):\n",
    "            dsModRes = self.euclidean_distance(X, self.__X)\n",
    "        elif (self.__metric == 'cosine'):\n",
    "            dsModRes = self.cosine_distance(X, self.__X)\n",
    "        elif (self.__metric == 'overlap'):\n",
    "            dsModRes = self.overlap(X, self.__X)\n",
    "        elif (self.__metric == 'flattened_overlap'):\n",
    "            dsModRes = self.flattened_overlap(X, self.__X)\n",
    "        elif (self.__metric == 'log_overlap'):\n",
    "            dsModRes = self.log_overlap(X, self.__X)\n",
    "        else:\n",
    "            raise Exception(\"Unknown 'metric' param value\")\n",
    "\n",
    "        res = []\n",
    "        dists = []\n",
    "        for i in range(len(dsModRes)):\n",
    "            tmpDists = np.argsort(dsModRes[i])[:self.__n_neighbors]\n",
    "            res.append(dsModRes[i][tmpDists])\n",
    "            if (return_distance):\n",
    "                dists.append(tmpDists)\n",
    "\n",
    "        if (return_distance):\n",
    "            return (res, dists)\n",
    "        else:\n",
    "            return (res)\n",
    "        \n",
    "    def predict(self, X: np.array, n_neighbors: Optional[int] = None) -> np.array:\n",
    "        \"\"\"\n",
    "            X: data\n",
    "            n_neighbors: number of neighbors\n",
    "        \"\"\"\n",
    "        # Ваш код здесь\n",
    "#         distances, indices = self.__nn.kneighbors(X)\n",
    "#         distances, indices = self.__nnTest.kneighbors(X)\n",
    "        distances, indices = self.find_kneighbors(X)\n",
    "    \n",
    "        if (self.__mode == 'uniform'):\n",
    "            res = self.__y[indices].mean(axis=1)\n",
    "        else: \n",
    "            res = []\n",
    "            for row in range(len(indices)):\n",
    "                predictedVal = 0\n",
    "                weightsSum = 0\n",
    "                for col in range(len(indices[row])):\n",
    "                    w = 1 / (1 + distances[row][col])\n",
    "                    weightsSum = weightsSum + w\n",
    "                    predictedVal = predictedVal + w * self.__y[indices[row][col]]\n",
    "                res.append(predictedVal / weightsSum)\n",
    "            res = np.array(res)\n",
    "#         return self.__nnTest.predict(X)\n",
    "        return res\n",
    "            "
   ]
  },
  {
   "cell_type": "code",
   "execution_count": 12,
   "metadata": {},
   "outputs": [
    {
     "name": "stdout",
     "output_type": "stream",
     "text": [
      "Progress: [####################] 100.0%\n"
     ]
    },
    {
     "data": {
      "image/png": "[encoded data removed]",
      "text/plain": [
       "<Figure size 432x288 with 1 Axes>"
      ]
     },
     "metadata": {
      "needs_background": "light"
     },
     "output_type": "display_data"
    }
   ],
   "source": [
    "X_train1 = X_train[numberCols].to_numpy()\n",
    "X_test1 = X_test[numberCols].to_numpy()\n",
    "y_train1 = y_train.to_numpy()[:,0]\n",
    "y_test1 = y_test.to_numpy()[:,0]\n",
    "\n",
    "k_max = 40\n",
    "metrics_array = ['euclidean', 'cosine']\n",
    "\n",
    "res_matrix_length = k_max * (len(metrics_array) + 1)\n",
    "process_bar_length = res_matrix_length\n",
    "cur_bar_position = 0\n",
    "update_progress(cur_bar_position / res_matrix_length)\n",
    "\n",
    "res = np.zeros(k_max * len(metrics_array)).reshape(k_max, len(metrics_array))\n",
    "\n",
    "for m in range(len(metrics_array)):\n",
    "    for k in range(k_max):\n",
    "        knnr = KNNRegressor(n_neighbors = k + 1, metric = metrics_array[m], mode = 'distance')\n",
    "        knnr.fit(X_train1, y_train1)\n",
    "        res[k][m] = mean_squared_error(y_test1, knnr.predict(X_test1))\n",
    "        cur_bar_position = cur_bar_position + 1\n",
    "        update_progress(cur_bar_position / res_matrix_length)\n",
    "\n",
    "# посчитаем ошибку для uniform режима        \n",
    "res_u = np.zeros(k_max)\n",
    "for k in range(k_max):\n",
    "    knnr = KNNRegressor(n_neighbors = k + 1, metric = 'euclidean', mode = 'uniform')\n",
    "    knnr.fit(X_train1, y_train1)\n",
    "    res_u[k] = mean_squared_error(y_test1, knnr.predict(X_test1))\n",
    "    cur_bar_position = cur_bar_position + 1\n",
    "    update_progress(cur_bar_position / res_matrix_length)\n",
    "\n",
    "# и добавим в наш массив результатов    \n",
    "res_u = res_u.reshape(k_max,1)\n",
    "res1 = np.hstack((res_u, res))\n",
    "\n",
    "# отображение результата\n",
    "plt.plot(res1)\n",
    "plt.legend(['uniform'] + metrics_array, loc='upper right')\n",
    "plt.show() "
   ]
  },
  {
   "cell_type": "markdown",
   "metadata": {},
   "source": [
    "## Часть 2: Категориальные признаки"
   ]
  },
  {
   "cell_type": "markdown",
   "metadata": {},
   "source": [
    "<b>2.1 (1 балл)</b>\n",
    "Реализуйте три функции расстояния на категориальных признаках, которые обсуждались на [третьем семинаре](https://github.com/mmp-mmro-team/mmp_mmro_fall_2019/blob/master/lecture-notes/Sem03_knn.pdf). Не забудьте, что KNNRegressor должен уметь работать с этими функциями расстояния. Как вариант, можно реализовать метрики как [user-defined distance](http://scikit-learn.org/stable/modules/generated/sklearn.neighbors.DistanceMetric.html)."
   ]
  },
  {
   "cell_type": "code",
   "execution_count": 14,
   "metadata": {},
   "outputs": [],
   "source": [
    "# для overlap можно не кодировать, для остальных обызательно \n",
    "\n",
    "labelencoder = LabelEncoder()\n",
    "\n",
    "X_train['neighbourhood_group_encoded'] = labelencoder.fit_transform(X_train['neighbourhood_group'])\n",
    "X_train['neighbourhood_encoded'] = labelencoder.fit_transform(X_train['neighbourhood'])\n",
    "X_train['room_type_encoded'] = labelencoder.fit_transform(X_train['room_type'])\n",
    "\n",
    "X_test['neighbourhood_group_encoded'] = labelencoder.fit_transform(X_test['neighbourhood_group'])\n",
    "X_test['neighbourhood_encoded'] = labelencoder.fit_transform(X_test['neighbourhood'])\n",
    "X_test['room_type_encoded'] = labelencoder.fit_transform(X_test['room_type'])\n",
    "\n",
    "categoricalColsEncoded = ['neighbourhood_group_encoded', 'neighbourhood_encoded', 'room_type_encoded']\n",
    "\n",
    "X_train2 = X_train[0:1000][categoricalColsEncoded].to_numpy()\n",
    "X_test2 = X_test[0:1000][categoricalColsEncoded].to_numpy()\n",
    "y_train2 = y_train[0:1000].to_numpy()[:,0]\n",
    "y_test2 = y_test[0:1000].to_numpy()[:,0]"
   ]
  },
  {
   "cell_type": "markdown",
   "metadata": {},
   "source": [
    "<b>2.2 (1 балл)</b> Найдите все категориальные признаки в данных. Подсчитайте для каждой из метрик качество на тестовой выборке `X_test` при числе соседей $k = 10$. Качество измеряйте с помощью RMSE.\n",
    "\n",
    "Какая функция расстояния оказалась лучшей? Почему?"
   ]
  },
  {
   "cell_type": "code",
   "execution_count": 16,
   "metadata": {
    "scrolled": false
   },
   "outputs": [
    {
     "name": "stdout",
     "output_type": "stream",
     "text": [
      "Progress: [####################] 100.0%\n"
     ]
    },
    {
     "data": {
      "image/png": "[encoded data removed]",
      "text/plain": [
       "<Figure size 432x288 with 1 Axes>"
      ]
     },
     "metadata": {
      "needs_background": "light"
     },
     "output_type": "display_data"
    }
   ],
   "source": [
    "# Ваш код здесь\n",
    "k_max = 30\n",
    "metrics_array = ['overlap', 'flattened_overlap', 'log_overlap']\n",
    "\n",
    "res_matrix_length = k_max * len(metrics_array)\n",
    "process_bar_length = res_matrix_length\n",
    "cur_bar_position = 0\n",
    "update_progress(cur_bar_position / res_matrix_length)\n",
    "\n",
    "res2 = np.zeros(res_matrix_length).reshape(k_max, len(metrics_array))\n",
    "\n",
    "for m in range(len(metrics_array)):\n",
    "    for k in range(0, k_max):\n",
    "        knnr = KNNRegressor(n_neighbors = k + 1, metric = metrics_array[m], mode = 'distance')\n",
    "        knnr.fit(X_train2, y_train2)\n",
    "        pred = knnr.predict(X_test2)\n",
    "        res2[k][m] = np.sqrt(mean_squared_error(y_test2, pred))\n",
    "        cur_bar_position = cur_bar_position + 1\n",
    "        update_progress(cur_bar_position / res_matrix_length)\n",
    "\n",
    "plt.plot(res2)\n",
    "plt.legend(metrics_array, loc='upper right')\n",
    "plt.show() "
   ]
  },
  {
   "cell_type": "markdown",
   "metadata": {},
   "source": [
    "<b>2.3 (1 балл) бонус</b> Подберите лучшее (на тестовой выборке) число соседей $k$ для каждой из функций расстояния. Какого удалось достичь уровня качества?"
   ]
  },
  {
   "cell_type": "code",
   "execution_count": 17,
   "metadata": {},
   "outputs": [
    {
     "name": "stdout",
     "output_type": "stream",
     "text": [
      "Для overlap оптимальное значение k = 21 (результат 294.4985)\n",
      "Для flattened_overlap оптимальное значение k = 21 (результат 294.4680)\n",
      "Для log_overlap оптимальное значение k = 27 (результат 288.7608)\n"
     ]
    }
   ],
   "source": [
    "# Ваш код здесь\n",
    "for m in range(len(metrics_array)):\n",
    "    k = np.argmin(res2[:,m])\n",
    "    print(\"Для %s оптимальное значение k = %d (результат %.4f)\" % (metrics_array[m], k, res2[k,m]))"
   ]
  },
  {
   "cell_type": "markdown",
   "metadata": {},
   "source": [
    "<b>2.4 (2.5 балла)</b> Отойдем ненадолго от задачи регрессии и перейдём к задаче классификации: будем определять, являеться ли квартира дорогой $(target = 1)$ или дешевой $(target = 0)$. Будем считать дорогими квариры, цена которых выше среднего."
   ]
  },
  {
   "cell_type": "code",
   "execution_count": 18,
   "metadata": {},
   "outputs": [],
   "source": [
    "data['target'] = (data.price > data.price.mean()).astype(int)"
   ]
  },
  {
   "cell_type": "markdown",
   "metadata": {},
   "source": [
    "Реализуйте счетчики, которые заменят категориальные признаки на вещественные.\n",
    "\n",
    "А именно, для каждого категориального признака $f_j(x)$ необходимо сделать следующее:\n",
    "1. Число `counts` объектов в обучающей выборке с таким же значением признака.\n",
    "\\begin{align}\n",
    "counts_j(c) = \\sum_{i=1}^l [f_j(x_i) = c]\n",
    "\\end{align}\n",
    "2. Число `successes` объектов первого класса ($y = 1$) в обучающей выборке с таким же значением признака.\n",
    "\\begin{align}\n",
    "successes_j(c) = \\sum_{i=1}^l[f_j(x_i) = c][y_i = +1].\n",
    "\\end{align}\n",
    "3. Сглаженное отношение двух предыдущих величин:\n",
    "\\begin{align}\n",
    "p_j(c) = \\frac{successes_j(c) + a}{counts_j(c) + b},\n",
    "\\end{align}\n",
    "\n",
    "где $a$ и $b$ - априорные счетчики (например, a = 1, b = 2)."
   ]
  },
  {
   "cell_type": "code",
   "execution_count": 114,
   "metadata": {},
   "outputs": [
    {
     "data": {
      "text/plain": [
       "{'a': 0.8,\n",
       " 'b': 0.6666666666666666,\n",
       " 'c': 0.6666666666666666,\n",
       " 'd': 0.75,\n",
       " 'e': 0.6666666666666666,\n",
       " 'f': 0.6666666666666666}"
      ]
     },
     "execution_count": 114,
     "metadata": {},
     "output_type": "execute_result"
    }
   ],
   "source": [
    "def counters(x):\n",
    "    \"\"\"\n",
    "    params:\n",
    "        x: value on categorical feature for N objects\n",
    "    returns: vector of length N\n",
    "    \"\"\"\n",
    "    # Ваш код здесь\n",
    "    pass\n",
    "\n",
    "def counts(X: np.array) -> np.array:\n",
    "    \"\"\"\n",
    "    params:\n",
    "        x: value on categorical feature for N objects\n",
    "    returns: vector of length N\n",
    "    \"\"\"\n",
    "    # Ваш код здесь\n",
    "    res = {}\n",
    "    unique, counts = np.unique(X, return_counts = True)\n",
    "    return dict(np.asarray((unique, counts)).T)\n",
    "\n",
    "def successes(X: np.array, Y: np.array) -> np.array:\n",
    "    res = {}\n",
    "    \n",
    "    unique = np.unique(X, return_counts = False)\n",
    "    for val in unique:\n",
    "        count = 0\n",
    "        for row in range(len(X)):\n",
    "            if ((X[row] == val) and X[row]):\n",
    "                count = count + 1\n",
    "        res[val] = count\n",
    "    \n",
    "    return res\n",
    "\n",
    "def flattened(X: np.array, Y: np.array, a: int = 1, b: int = 2) -> np.array:\n",
    "    cnts = counts(X)\n",
    "    scses = successes(X, Y)\n",
    "   \n",
    "    res = {}\n",
    "    for key in cnts:\n",
    "        res[key] = (int(scses[key]) + a) / (int(cnts[key]) + b)\n",
    "    \n",
    "    return res\n",
    "\n",
    "# counts(['a','b','c','a','e','d','d','f','a'])\n",
    "# successes(['a','b','c','a','e','d','d','f','a'], [1,0,1,1,1,0,0,0,1])\n",
    "flattened(['a','b','c','a','e','d','d','f','a'], [1,0,1,1,1,0,0,0,1])"
   ]
  },
  {
   "cell_type": "markdown",
   "metadata": {},
   "source": [
    "Поскольку признаки, содержащие информацию о целевой переменной, могут привести к переобучению, может оказаться полезным сделать *фолдинг*: разбить обучающую выборку на $n$ частей, и для $i$-й части считать `counts` и `successes` по всем остальным частям. Для тестовой выборки используются счетчики, посчитанный по всей обучающей выборке. Реализуйте и такой вариант. Достаточно взять $n = 3$."
   ]
  },
  {
   "cell_type": "code",
   "execution_count": 115,
   "metadata": {},
   "outputs": [
    {
     "data": {
      "text/plain": [
       "{0: {'a': 0.75,\n",
       "  'b': 0.6666666666666666,\n",
       "  'c': 0.6666666666666666,\n",
       "  'd': 0.75,\n",
       "  'e': 0.6666666666666666,\n",
       "  'f': 0.5},\n",
       " 1: {'a': 1.3333333333333333,\n",
       "  'b': 0.5,\n",
       "  'c': 0.3333333333333333,\n",
       "  'd': 0.75,\n",
       "  'e': 0.3333333333333333,\n",
       "  'f': 0.75},\n",
       " 2: {'a': 0.4,\n",
       "  'b': 0.6666666666666666,\n",
       "  'c': 1.0,\n",
       "  'd': 0.6666666666666666,\n",
       "  'e': 1.0,\n",
       "  'f': 0.75}}"
      ]
     },
     "execution_count": 115,
     "metadata": {},
     "output_type": "execute_result"
    }
   ],
   "source": [
    "def kfold(n, n_folds):\n",
    "    partSize = n // n_folds\n",
    "    indexes = [i for i in range(n)]\n",
    "    np.random.shuffle(indexes)\n",
    "    \n",
    "    res = []\n",
    "    for i in range(n_folds):\n",
    "        test = indexes[partSize*i:partSize*(i+1)]\n",
    "        valid = indexes[0:partSize*i] + indexes[partSize*(i+1):]\n",
    "        res.append((test, valid))\n",
    "\n",
    "    return res\n",
    "\n",
    "def kcounts(X: np.array, n: int) -> np.array:\n",
    "    res = {}\n",
    "    \n",
    "    folds = kfold(len(X), 3)\n",
    "    for fold_index in range(len(folds)):\n",
    "        foldValues = []\n",
    "        for index in folds[fold_index][1]:\n",
    "            foldValues.append(X[index])\n",
    "        cnts = counts(foldValues)\n",
    "        fld = {}\n",
    "        for index in np.unique(X, return_counts = False):\n",
    "            if (index in cnts.keys()):\n",
    "                fld[index] = int(cnts[index])\n",
    "            else:\n",
    "                \"\"\"\n",
    "                если ключь не найден, присваеваем значение 0\n",
    "                это не правильно; в продакшене нужно переделать на NaN с последующей\n",
    "                заменой всех NaN на среднее значение по ключу\n",
    "                \"\"\"\n",
    "                fld[index] = 0\n",
    "        res[fold_index] = fld\n",
    "    \n",
    "    return res\n",
    "\n",
    "\n",
    "def ksuccesses(X: np.array, Y: np.array, n: int) -> np.array:\n",
    "    res = {}\n",
    "    \n",
    "    folds = kfold(len(X), 3)\n",
    "    for fold_index in range(len(folds)):\n",
    "        foldValues = []\n",
    "        foldAnswers = []\n",
    "        for index in folds[fold_index][1]:\n",
    "            foldValues.append(X[index])\n",
    "            foldAnswers.append(Y[index])\n",
    "        scses = successes(foldValues, foldAnswers)\n",
    "        fld = {}\n",
    "        for index in np.unique(X, return_counts = False):\n",
    "            if (index in scses.keys()):\n",
    "                fld[index] = int(scses[index])\n",
    "            else:\n",
    "                \"\"\"\n",
    "                если ключь не найден, присваеваем значение 0\n",
    "                это не правильно; в продакшене нужно переделать на NaN с последующей\n",
    "                заменой всех NaN на среднее значение по ключу\n",
    "                \"\"\"\n",
    "                fld[index] = 0\n",
    "        res[fold_index] = fld\n",
    "    \n",
    "    return res\n",
    "\n",
    "def kflattened(X: np.array, Y: np.array, n:int, a: int = 1, b: int = 2) -> np.array:\n",
    "    cnts = kcounts(X, n)\n",
    "    scses = ksuccesses(X, Y, n)\n",
    "   \n",
    "    res = {}\n",
    "    for nfold in range(n):\n",
    "        fld = {}\n",
    "        for key in cnts[nfold]:\n",
    "             fld[key] = (int(scses[nfold][key]) + a) / (int(cnts[nfold][key]) + b)\n",
    "        res[nfold] = fld\n",
    "    \n",
    "    return res\n",
    "\n",
    "def fold_counters(x):\n",
    "    \"\"\"\n",
    "    params:\n",
    "        x: value on categorical feature for N objects\n",
    "    returns: vector of length N\n",
    "    \"\"\"\n",
    "    # Ваш код здесь\n",
    "    pass\n",
    "\n",
    "# kcounts(['a','b','c','a','e','d','d','f','a','f'], 3)\n",
    "# ksuccesses(['a','b','c','a','e','d','d','f','a','f'], [1,0,1,1,1,0,0,0,1,0], 3)\n",
    "kflattened(['a','b','c','a','e','d','d','f','a','f'], [1,0,1,1,1,0,0,0,1,0], 3)"
   ]
  },
  {
   "cell_type": "markdown",
   "metadata": {},
   "source": [
    "Посчитайте на тесте AUC-ROC метода $k$ ближайших соседей с евклидовой метрикой для выборки, где категориальные признаки заменены на счетчики. Сравните по AUC-ROC два варианта формирования выборки — с фолдингом и без. Не забудьте подобрать наилучшее число соседей $k$."
   ]
  },
  {
   "cell_type": "code",
   "execution_count": 57,
   "metadata": {},
   "outputs": [
    {
     "name": "stdout",
     "output_type": "stream",
     "text": [
      "Fitting 3 folds for each of 32 candidates, totalling 96 fits\n"
     ]
    },
    {
     "name": "stderr",
     "output_type": "stream",
     "text": [
      "[Parallel(n_jobs=1)]: Using backend SequentialBackend with 1 concurrent workers.\n"
     ]
    },
    {
     "name": "stdout",
     "output_type": "stream",
     "text": [
      "{'metric': 'cosine', 'n_neighbors': 101, 'weights': 'uniform'}\n"
     ]
    },
    {
     "name": "stderr",
     "output_type": "stream",
     "text": [
      "[Parallel(n_jobs=1)]: Done  96 out of  96 | elapsed:  9.7min finished\n"
     ]
    }
   ],
   "source": [
    "# Ваш код здесь\n",
    "from sklearn.model_selection import cross_val_score\n",
    "from sklearn.model_selection import GridSearchCV\n",
    "\n",
    "X_train1 = X_train[numberCols].to_numpy()\n",
    "X_test1 = X_test[numberCols].to_numpy()\n",
    "y_train1 = y_train.to_numpy()[:,0]\n",
    "y_test1 = y_test.to_numpy()[:,0]\n",
    "\n",
    "\n",
    "#create a new KNN model\n",
    "knn = KNeighborsRegressor(n_neighbors=20, metric = 'euclidean', weights = 'distance')\n",
    "\n",
    "grid_params = {\n",
    "    'n_neighbors': [91, 93, 95, 97, 99, 101, 103, 105],\n",
    "    'weights': ['uniform', 'distance'],\n",
    "    'metric': ['euclidean', 'cosine']\n",
    "}\n",
    "\n",
    "gs = GridSearchCV(\n",
    "    KNeighborsRegressor(),\n",
    "    grid_params,\n",
    "    verbose = 1,\n",
    "    cv = 3,\n",
    "    n_jobs = 1\n",
    ")\n",
    "\n",
    "gs_results = gs.fit(X_train1, y_train1)\n",
    "\n",
    "print(gs_results.best_params_)\n",
    "\n",
    "# #train model with cv of 5 \n",
    "# cv_scores = cross_val_score(knn, X_train1, y_train1, cv=5)\n",
    "\n",
    "# print(cv_scores)\n",
    "# print(\"cv_scores mean: %.4f\" % np.mean(cv_scores))\n",
    "\n",
    "# # pred = knn.predict(X_test1)\n",
    "# # rmse = np.sqrt(mean_squared_error(y_test1, pred))\n",
    "\n",
    "# # print(\"RMSE on test: %.4f\" % rmse)"
   ]
  },
  {
   "cell_type": "markdown",
   "metadata": {},
   "source": [
    "<b>2.5 (1 балл)</b> Вернемся к задаче регрессии. Утверждается, что для задачи регрессии можно также сделать преобразование категориальных признаков в действительные числа. Для этого достаточно для каждого значения признака $f_j$ вычислить:\n",
    "\\begin{align}\n",
    "p_j(c) = g(T_i | f_j(x_i) = c),\n",
    "\\end{align}\n",
    "\n",
    "где $T_i$ - значения целевой переменной объекта $x_i$. Функция $g$ - среднее (mean) или среднеквадратичное отклонение (std).\n",
    "\n",
    "Закодируйте категориальные признаки обоими способами и найдите значение RMSE. Используйте евклидову метрику для поиска ближайших соседей. Для какой функции $g$ значение RMSE лучше? Почему?"
   ]
  },
  {
   "cell_type": "code",
   "execution_count": null,
   "metadata": {
    "collapsed": true
   },
   "outputs": [],
   "source": [
    "# Ваш код здесь"
   ]
  },
  {
   "cell_type": "markdown",
   "metadata": {},
   "source": [
    "## Часть 3: Текстовые признаки"
   ]
  },
  {
   "cell_type": "markdown",
   "metadata": {},
   "source": [
    "<b>3.1 (2 балла)</b> Перейдем от категориальным признаков к текстовым. Рассмотрим 2 способа преобразования текста в действительные числа:\n",
    "- Мешок слов (Bag of Words)\n",
    "- TF-IDF\n",
    "\n",
    "[Здесь](https://scikit-learn.org/stable/modules/feature_extraction.html) вы можете прочитать про их применение в Питоне.\n",
    "\n",
    "Сравните оба способа на задаче регресси. Какую лучше метрику использовать: евклидову или косинусную меру? Постройте графики зависимости качества решения задачи от способа преобразования, метрики и количества соседей. Мера качества - RMSE.\n",
    "\n",
    "Объясните полученные результаты.\n",
    "\n",
    "Перед преобразованием не забудьте уменьшить размер словаря. Например, это можно сделать за счет приведения всех слов к одному регистру и удаления [стопслов](https://en.wikipedia.org/wiki/Stop_words) (артиклей, предлогов, союзов)."
   ]
  },
  {
   "cell_type": "code",
   "execution_count": 69,
   "metadata": {
    "scrolled": true
   },
   "outputs": [],
   "source": [
    "# добавим колонку с текстыми данными\n",
    "X_train['text'] = X_train[['name', 'host_name']].apply(lambda row: ' - '.join(str(colval) for colval in row), axis=1)\n",
    "X_train['text'].str.lower()\n",
    "\n",
    "X_test['text'] = X_test[['name', 'host_name']].apply(lambda row: ' - '.join(str(colval) for colval in row), axis=1)\n",
    "X_test['text'].str.lower()\n",
    "\n",
    "vectorizer = CountVectorizer(stop_words='english')\n",
    "tfidf_transformer = TfidfTransformer()"
   ]
  },
  {
   "cell_type": "code",
   "execution_count": 13,
   "metadata": {},
   "outputs": [
    {
     "name": "stdout",
     "output_type": "stream",
     "text": [
      "Progress: [####################] 100.0%\n"
     ]
    },
    {
     "data": {
      "image/png": "[encoded data removed]",
      "text/plain": [
       "<Figure size 432x288 with 1 Axes>"
      ]
     },
     "metadata": {
      "needs_background": "light"
     },
     "output_type": "display_data"
    }
   ],
   "source": [
    "# Ваш код здесь\n",
    "\n",
    "X_train1 = X_train['text'].to_numpy()\n",
    "X_test1 = X_test['text'].to_numpy()\n",
    "y_train1 = y_train.to_numpy()[:,0]\n",
    "y_test1 = y_test.to_numpy()[:,0]\n",
    "\n",
    "vectorizer_train = vectorizer.fit_transform(X_train1)\n",
    "vectorizer_test = vectorizer.transform(X_test1)\n",
    "\n",
    "X_train_tfidf = tfidf_transformer.fit_transform(vectorizer_train)\n",
    "X_test_tfidf = tfidf_transformer.transform(vectorizer_test)\n",
    "\n",
    "k_max = 100\n",
    "metrics_array = ['euclidean', 'cosine']\n",
    "res_matrix_length = k_max * len(metrics_array) * 2\n",
    "res = np.zeros(res_matrix_length).reshape(k_max, len(metrics_array) * 2)\n",
    "process_bar_length = res_matrix_length\n",
    "cur_bar_position = 0\n",
    "update_progress(cur_bar_position / res_matrix_length)\n",
    "for t in range(len(['count', 'tfidf'])):\n",
    "    for m in range(len(metrics_array)):\n",
    "        for k in range(0, k_max):\n",
    "            knnr = KNeighborsRegressor(n_neighbors = k + 1, metric = metrics_array[m], weights = 'distance')\n",
    "            if (t):\n",
    "                knnr.fit(X_train_tfidf, y_train1)\n",
    "                pred = knnr.predict(X_test_tfidf)\n",
    "            else:\n",
    "                knnr.fit(vectorizer_train, y_train1)\n",
    "                pred = knnr.predict(vectorizer_test)\n",
    "            res[k][(t * len(metrics_array)) + m] = np.sqrt(mean_squared_error(y_test1, pred))\n",
    "            cur_bar_position = cur_bar_position + 1\n",
    "            update_progress(cur_bar_position / res_matrix_length)\n",
    "\n",
    "plt.plot(res)\n",
    "plt.legend(['euclidean BoW', 'cosine BoW', 'euclidean tfidf', 'cosine tfidf'], loc='upper right')\n",
    "plt.show() "
   ]
  },
  {
   "cell_type": "code",
   "execution_count": 14,
   "metadata": {},
   "outputs": [
    {
     "name": "stdout",
     "output_type": "stream",
     "text": [
      "Минимальная ошибка RMSE: 202.9486\n"
     ]
    }
   ],
   "source": [
    "print(\"Минимальная ошибка RMSE: %.4f\" % np.min(res))"
   ]
  },
  {
   "cell_type": "markdown",
   "metadata": {},
   "source": [
    "<b>3.2 (1 балл)</b> Используя все доступные признаки, решите задачу регрессии. Для категориальных и текстовых признаков выберите лучшие преобразования. Повлияло ли добавление количественного признака на метрику качества?"
   ]
  },
  {
   "cell_type": "code",
   "execution_count": 88,
   "metadata": {},
   "outputs": [
    {
     "name": "stderr",
     "output_type": "stream",
     "text": [
      "/opt/conda/lib/python3.7/site-packages/sklearn/preprocessing/data.py:334: DataConversionWarning: Data with input dtype int64, float64 were all converted to float64 by MinMaxScaler.\n",
      "  return self.partial_fit(X, y)\n",
      "/opt/conda/lib/python3.7/site-packages/sklearn/preprocessing/data.py:334: DataConversionWarning: Data with input dtype int64, float64 were all converted to float64 by MinMaxScaler.\n",
      "  return self.partial_fit(X, y)\n"
     ]
    }
   ],
   "source": [
    "# обрабатываем исходные фичи\n",
    "labelencoder = LabelEncoder()\n",
    "vectorizer = CountVectorizer(stop_words = 'english')\n",
    "tfidf_transformer = TfidfTransformer()\n",
    "\n",
    "onehotencoder = OneHotEncoder()\n",
    "scaler = MinMaxScaler()\n",
    "\n",
    "data = pd.read_csv('AB_NYC_2019.csv')\n",
    "data.head()\n",
    "\n",
    "data['last_review'] = pd.to_datetime(data['last_review'].fillna(0)).astype(int)\n",
    "\n",
    "numberCols = data.select_dtypes(include=[np.number]).columns.tolist()\n",
    "numberCols.remove('id')\n",
    "numberCols.remove('price')\n",
    "\n",
    "categoricalCols = ['neighbourhood_group', 'neighbourhood', 'room_type']\n",
    "\n",
    "data[numberCols] = data[numberCols].fillna(0)\n",
    "data[categoricalCols] = data[categoricalCols].fillna('')\n",
    "\n",
    "textCols = ['name']\n",
    "data[textCols] = data[textCols].fillna('')\n",
    "\n",
    "X_train, X_test, y_train, y_test = train_test_split(\n",
    "    data.drop(columns=['price']), data[['price']],\n",
    "    test_size=0.3, \n",
    "    random_state=241\n",
    ")\n",
    "\n",
    "X_train['neighbourhood_group_encoded'] = labelencoder.fit_transform(X_train['neighbourhood_group'])\n",
    "X_train['neighbourhood_encoded'] = labelencoder.fit_transform(X_train['neighbourhood'])\n",
    "X_train['room_type_encoded'] = labelencoder.fit_transform(X_train['room_type'])\n",
    "\n",
    "X_test['neighbourhood_group_encoded'] = labelencoder.fit_transform(X_test['neighbourhood_group'])\n",
    "X_test['neighbourhood_encoded'] = labelencoder.fit_transform(X_test['neighbourhood'])\n",
    "X_test['room_type_encoded'] = labelencoder.fit_transform(X_test['room_type'])\n",
    "\n",
    "X_train['text'] = X_train[['name', 'host_name']].apply(lambda row: ' - '.join(str(colval) for colval in row), axis=1)\n",
    "X_train['text'].str.lower()\n",
    "\n",
    "X_test['text'] = X_test[['name', 'host_name']].apply(lambda row: ' - '.join(str(colval) for colval in row), axis=1)\n",
    "X_test['text'].str.lower()\n",
    "\n",
    "train_scaled_df = scaler.fit_transform(X_train[numberCols])\n",
    "train_scaled_df = pd.DataFrame(train_scaled_df, columns=[numberCols])\n",
    "\n",
    "test_scaled_df = scaler.fit_transform(X_test[numberCols])\n",
    "test_scaled_df = pd.DataFrame(test_scaled_df, columns=[numberCols])\n",
    "\n",
    "vectorizer_train = sp.sparse.hstack( \\\n",
    "    (tfidf_transformer.fit_transform(vectorizer.fit_transform(X_train['text'])), \\\n",
    "     train_scaled_df[numberCols], X_train[['neighbourhood_group_encoded', 'neighbourhood_encoded', 'room_type_encoded']].values, \\\n",
    "    ), format='csr' \\\n",
    ")\n",
    "\n",
    "vectorizer_test = sp.sparse.hstack( \\\n",
    "    (tfidf_transformer.transform(vectorizer.transform(X_test['text'])), \\\n",
    "     test_scaled_df[numberCols], X_test[['neighbourhood_group_encoded', 'neighbourhood_encoded', 'room_type_encoded']].values, \\\n",
    "    ), format='csr' \\\n",
    ")\n",
    "\n",
    "vectorizer_train_onehot = sp.sparse.hstack( \\\n",
    "    (tfidf_transformer.fit_transform(vectorizer.fit_transform(X_train['text'])), \\\n",
    "     train_scaled_df[numberCols].values, \\\n",
    "     onehotencoder.fit_transform(X_train['neighbourhood_group'].values.reshape(-1, 1)), \\\n",
    "    ), format='csr' \\\n",
    ")\n",
    "\n",
    "vectorizer_test_onehot = sp.sparse.hstack( \\\n",
    "    (tfidf_transformer.transform(vectorizer.transform(X_test['text'])), \\\n",
    "     test_scaled_df[numberCols].values, \\\n",
    "     onehotencoder.fit_transform(X_test['neighbourhood_group'].values.reshape(-1, 1)), \\\n",
    "    ), format='csr' \\\n",
    ")"
   ]
  },
  {
   "cell_type": "code",
   "execution_count": 91,
   "metadata": {},
   "outputs": [
    {
     "name": "stdout",
     "output_type": "stream",
     "text": [
      "Fitting 3 folds for each of 20 candidates, totalling 60 fits\n",
      "[CV] metric=euclidean, n_neighbors=27, weights=uniform ...............\n"
     ]
    },
    {
     "name": "stderr",
     "output_type": "stream",
     "text": [
      "[Parallel(n_jobs=1)]: Using backend SequentialBackend with 1 concurrent workers.\n"
     ]
    },
    {
     "name": "stdout",
     "output_type": "stream",
     "text": [
      "[CV]  metric=euclidean, n_neighbors=27, weights=uniform, score=0.14060307610804468, total=  13.2s\n",
      "[CV] metric=euclidean, n_neighbors=27, weights=uniform ...............\n"
     ]
    },
    {
     "name": "stderr",
     "output_type": "stream",
     "text": [
      "[Parallel(n_jobs=1)]: Done   1 out of   1 | elapsed:   39.5s remaining:    0.0s\n"
     ]
    },
    {
     "name": "stdout",
     "output_type": "stream",
     "text": [
      "[CV]  metric=euclidean, n_neighbors=27, weights=uniform, score=0.09106591622822968, total=  12.9s\n",
      "[CV] metric=euclidean, n_neighbors=27, weights=uniform ...............\n"
     ]
    },
    {
     "name": "stderr",
     "output_type": "stream",
     "text": [
      "[Parallel(n_jobs=1)]: Done   2 out of   2 | elapsed:  1.3min remaining:    0.0s\n"
     ]
    },
    {
     "name": "stdout",
     "output_type": "stream",
     "text": [
      "[CV]  metric=euclidean, n_neighbors=27, weights=uniform, score=0.09972084638119438, total=  13.2s\n",
      "[CV] metric=euclidean, n_neighbors=27, weights=distance ..............\n"
     ]
    },
    {
     "name": "stderr",
     "output_type": "stream",
     "text": [
      "[Parallel(n_jobs=1)]: Done   3 out of   3 | elapsed:  2.0min remaining:    0.0s\n"
     ]
    },
    {
     "name": "stdout",
     "output_type": "stream",
     "text": [
      "[CV]  metric=euclidean, n_neighbors=27, weights=distance, score=0.14891566176169302, total=  13.2s\n",
      "[CV] metric=euclidean, n_neighbors=27, weights=distance ..............\n"
     ]
    },
    {
     "name": "stderr",
     "output_type": "stream",
     "text": [
      "[Parallel(n_jobs=1)]: Done   4 out of   4 | elapsed:  2.6min remaining:    0.0s\n"
     ]
    },
    {
     "name": "stdout",
     "output_type": "stream",
     "text": [
      "[CV]  metric=euclidean, n_neighbors=27, weights=distance, score=0.0947557272470737, total=  12.9s\n",
      "[CV] metric=euclidean, n_neighbors=27, weights=distance ..............\n"
     ]
    },
    {
     "name": "stderr",
     "output_type": "stream",
     "text": [
      "[Parallel(n_jobs=1)]: Done   5 out of   5 | elapsed:  3.3min remaining:    0.0s\n"
     ]
    },
    {
     "name": "stdout",
     "output_type": "stream",
     "text": [
      "[CV]  metric=euclidean, n_neighbors=27, weights=distance, score=0.10394598344702477, total=  13.2s\n",
      "[CV] metric=euclidean, n_neighbors=29, weights=uniform ...............\n"
     ]
    },
    {
     "name": "stderr",
     "output_type": "stream",
     "text": [
      "[Parallel(n_jobs=1)]: Done   6 out of   6 | elapsed:  3.9min remaining:    0.0s\n"
     ]
    },
    {
     "name": "stdout",
     "output_type": "stream",
     "text": [
      "[CV]  metric=euclidean, n_neighbors=29, weights=uniform, score=0.13834990952601534, total=  13.2s\n",
      "[CV] metric=euclidean, n_neighbors=29, weights=uniform ...............\n"
     ]
    },
    {
     "name": "stderr",
     "output_type": "stream",
     "text": [
      "[Parallel(n_jobs=1)]: Done   7 out of   7 | elapsed:  4.6min remaining:    0.0s\n"
     ]
    },
    {
     "name": "stdout",
     "output_type": "stream",
     "text": [
      "[CV]  metric=euclidean, n_neighbors=29, weights=uniform, score=0.08949074422134473, total=  13.0s\n",
      "[CV] metric=euclidean, n_neighbors=29, weights=uniform ...............\n"
     ]
    },
    {
     "name": "stderr",
     "output_type": "stream",
     "text": [
      "[Parallel(n_jobs=1)]: Done   8 out of   8 | elapsed:  5.2min remaining:    0.0s\n"
     ]
    },
    {
     "name": "stdout",
     "output_type": "stream",
     "text": [
      "[CV]  metric=euclidean, n_neighbors=29, weights=uniform, score=0.09867963571846648, total=  13.2s\n",
      "[CV] metric=euclidean, n_neighbors=29, weights=distance ..............\n"
     ]
    },
    {
     "name": "stderr",
     "output_type": "stream",
     "text": [
      "[Parallel(n_jobs=1)]: Done   9 out of   9 | elapsed:  5.9min remaining:    0.0s\n"
     ]
    },
    {
     "name": "stdout",
     "output_type": "stream",
     "text": [
      "[CV]  metric=euclidean, n_neighbors=29, weights=distance, score=0.1470553204885029, total=  13.2s\n",
      "[CV] metric=euclidean, n_neighbors=29, weights=distance ..............\n"
     ]
    },
    {
     "name": "stderr",
     "output_type": "stream",
     "text": [
      "[Parallel(n_jobs=1)]: Done  10 out of  10 | elapsed:  6.6min remaining:    0.0s\n"
     ]
    },
    {
     "name": "stdout",
     "output_type": "stream",
     "text": [
      "[CV]  metric=euclidean, n_neighbors=29, weights=distance, score=0.09347409753716351, total=  13.0s\n",
      "[CV] metric=euclidean, n_neighbors=29, weights=distance ..............\n",
      "[CV]  metric=euclidean, n_neighbors=29, weights=distance, score=0.10321038158254782, total=  13.2s\n",
      "[CV] metric=euclidean, n_neighbors=31, weights=uniform ...............\n",
      "[CV]  metric=euclidean, n_neighbors=31, weights=uniform, score=0.1401601335384941, total=  13.2s\n",
      "[CV] metric=euclidean, n_neighbors=31, weights=uniform ...............\n",
      "[CV]  metric=euclidean, n_neighbors=31, weights=uniform, score=0.08881635148474243, total=  12.9s\n",
      "[CV] metric=euclidean, n_neighbors=31, weights=uniform ...............\n",
      "[CV]  metric=euclidean, n_neighbors=31, weights=uniform, score=0.09937223169142949, total=  13.2s\n",
      "[CV] metric=euclidean, n_neighbors=31, weights=distance ..............\n",
      "[CV]  metric=euclidean, n_neighbors=31, weights=distance, score=0.14873551627551607, total=  13.2s\n",
      "[CV] metric=euclidean, n_neighbors=31, weights=distance ..............\n",
      "[CV]  metric=euclidean, n_neighbors=31, weights=distance, score=0.09304505836311383, total=  12.9s\n",
      "[CV] metric=euclidean, n_neighbors=31, weights=distance ..............\n",
      "[CV]  metric=euclidean, n_neighbors=31, weights=distance, score=0.10386057486704849, total=  13.2s\n",
      "[CV] metric=euclidean, n_neighbors=33, weights=uniform ...............\n",
      "[CV]  metric=euclidean, n_neighbors=33, weights=uniform, score=0.14101494078631938, total=  13.2s\n",
      "[CV] metric=euclidean, n_neighbors=33, weights=uniform ...............\n",
      "[CV]  metric=euclidean, n_neighbors=33, weights=uniform, score=0.08709037076150615, total=  12.9s\n",
      "[CV] metric=euclidean, n_neighbors=33, weights=uniform ...............\n",
      "[CV]  metric=euclidean, n_neighbors=33, weights=uniform, score=0.09834543066215973, total=  13.1s\n",
      "[CV] metric=euclidean, n_neighbors=33, weights=distance ..............\n",
      "[CV]  metric=euclidean, n_neighbors=33, weights=distance, score=0.14951502170553277, total=  13.2s\n",
      "[CV] metric=euclidean, n_neighbors=33, weights=distance ..............\n",
      "[CV]  metric=euclidean, n_neighbors=33, weights=distance, score=0.09151812843323825, total=  12.9s\n",
      "[CV] metric=euclidean, n_neighbors=33, weights=distance ..............\n",
      "[CV]  metric=euclidean, n_neighbors=33, weights=distance, score=0.10299076382713757, total=  13.2s\n",
      "[CV] metric=euclidean, n_neighbors=35, weights=uniform ...............\n",
      "[CV]  metric=euclidean, n_neighbors=35, weights=uniform, score=0.14340366528069137, total=  13.2s\n",
      "[CV] metric=euclidean, n_neighbors=35, weights=uniform ...............\n",
      "[CV]  metric=euclidean, n_neighbors=35, weights=uniform, score=0.08727307580329811, total=  12.9s\n",
      "[CV] metric=euclidean, n_neighbors=35, weights=uniform ...............\n",
      "[CV]  metric=euclidean, n_neighbors=35, weights=uniform, score=0.09736373628009498, total=  13.2s\n",
      "[CV] metric=euclidean, n_neighbors=35, weights=distance ..............\n",
      "[CV]  metric=euclidean, n_neighbors=35, weights=distance, score=0.1517877479829386, total=  13.2s\n",
      "[CV] metric=euclidean, n_neighbors=35, weights=distance ..............\n",
      "[CV]  metric=euclidean, n_neighbors=35, weights=distance, score=0.09166022464660861, total=  12.9s\n",
      "[CV] metric=euclidean, n_neighbors=35, weights=distance ..............\n",
      "[CV]  metric=euclidean, n_neighbors=35, weights=distance, score=0.10216979194597164, total=  13.2s\n",
      "[CV] metric=cosine, n_neighbors=27, weights=uniform ..................\n",
      "[CV]  metric=cosine, n_neighbors=27, weights=uniform, score=0.11397197944663684, total=  12.7s\n",
      "[CV] metric=cosine, n_neighbors=27, weights=uniform ..................\n",
      "[CV]  metric=cosine, n_neighbors=27, weights=uniform, score=0.07174260814989486, total=  13.2s\n",
      "[CV] metric=cosine, n_neighbors=27, weights=uniform ..................\n",
      "[CV]  metric=cosine, n_neighbors=27, weights=uniform, score=0.08215082515819216, total=  12.9s\n",
      "[CV] metric=cosine, n_neighbors=27, weights=distance .................\n",
      "[CV]  metric=cosine, n_neighbors=27, weights=distance, score=0.1279029995234664, total=  12.7s\n",
      "[CV] metric=cosine, n_neighbors=27, weights=distance .................\n",
      "[CV]  metric=cosine, n_neighbors=27, weights=distance, score=0.07886387981639364, total=  13.2s\n",
      "[CV] metric=cosine, n_neighbors=27, weights=distance .................\n",
      "[CV]  metric=cosine, n_neighbors=27, weights=distance, score=0.09014855943944933, total=  12.9s\n",
      "[CV] metric=cosine, n_neighbors=29, weights=uniform ..................\n",
      "[CV]  metric=cosine, n_neighbors=29, weights=uniform, score=0.1147926247956379, total=  12.7s\n",
      "[CV] metric=cosine, n_neighbors=29, weights=uniform ..................\n",
      "[CV]  metric=cosine, n_neighbors=29, weights=uniform, score=0.07193104104264081, total=  13.2s\n",
      "[CV] metric=cosine, n_neighbors=29, weights=uniform ..................\n",
      "[CV]  metric=cosine, n_neighbors=29, weights=uniform, score=0.08211617860591136, total=  12.9s\n",
      "[CV] metric=cosine, n_neighbors=29, weights=distance .................\n",
      "[CV]  metric=cosine, n_neighbors=29, weights=distance, score=0.12885236111532805, total=  12.7s\n",
      "[CV] metric=cosine, n_neighbors=29, weights=distance .................\n",
      "[CV]  metric=cosine, n_neighbors=29, weights=distance, score=0.07900554177909337, total=  13.2s\n",
      "[CV] metric=cosine, n_neighbors=29, weights=distance .................\n",
      "[CV]  metric=cosine, n_neighbors=29, weights=distance, score=0.09017185575543796, total=  12.9s\n",
      "[CV] metric=cosine, n_neighbors=31, weights=uniform ..................\n",
      "[CV]  metric=cosine, n_neighbors=31, weights=uniform, score=0.11501489188665737, total=  12.6s\n",
      "[CV] metric=cosine, n_neighbors=31, weights=uniform ..................\n",
      "[CV]  metric=cosine, n_neighbors=31, weights=uniform, score=0.07092164971752135, total=  13.1s\n",
      "[CV] metric=cosine, n_neighbors=31, weights=uniform ..................\n",
      "[CV]  metric=cosine, n_neighbors=31, weights=uniform, score=0.08163972419751786, total=  12.9s\n",
      "[CV] metric=cosine, n_neighbors=31, weights=distance .................\n",
      "[CV]  metric=cosine, n_neighbors=31, weights=distance, score=0.1289440066849351, total=  12.7s\n",
      "[CV] metric=cosine, n_neighbors=31, weights=distance .................\n",
      "[CV]  metric=cosine, n_neighbors=31, weights=distance, score=0.07797722021868891, total=  13.2s\n",
      "[CV] metric=cosine, n_neighbors=31, weights=distance .................\n",
      "[CV]  metric=cosine, n_neighbors=31, weights=distance, score=0.08968203433463084, total=  12.9s\n",
      "[CV] metric=cosine, n_neighbors=33, weights=uniform ..................\n",
      "[CV]  metric=cosine, n_neighbors=33, weights=uniform, score=0.11552821493393683, total=  12.6s\n",
      "[CV] metric=cosine, n_neighbors=33, weights=uniform ..................\n",
      "[CV]  metric=cosine, n_neighbors=33, weights=uniform, score=0.06963359303051464, total=  13.2s\n",
      "[CV] metric=cosine, n_neighbors=33, weights=uniform ..................\n",
      "[CV]  metric=cosine, n_neighbors=33, weights=uniform, score=0.08241841540039874, total=  12.9s\n",
      "[CV] metric=cosine, n_neighbors=33, weights=distance .................\n",
      "[CV]  metric=cosine, n_neighbors=33, weights=distance, score=0.12958120617673285, total=  12.7s\n",
      "[CV] metric=cosine, n_neighbors=33, weights=distance .................\n",
      "[CV]  metric=cosine, n_neighbors=33, weights=distance, score=0.07667725858768804, total=  13.2s\n",
      "[CV] metric=cosine, n_neighbors=33, weights=distance .................\n",
      "[CV]  metric=cosine, n_neighbors=33, weights=distance, score=0.09045291432753488, total=  12.9s\n",
      "[CV] metric=cosine, n_neighbors=35, weights=uniform ..................\n",
      "[CV]  metric=cosine, n_neighbors=35, weights=uniform, score=0.11778122624846643, total=  12.7s\n",
      "[CV] metric=cosine, n_neighbors=35, weights=uniform ..................\n",
      "[CV]  metric=cosine, n_neighbors=35, weights=uniform, score=0.06892492550253204, total=  13.2s\n",
      "[CV] metric=cosine, n_neighbors=35, weights=uniform ..................\n",
      "[CV]  metric=cosine, n_neighbors=35, weights=uniform, score=0.08162607558688562, total=  12.9s\n",
      "[CV] metric=cosine, n_neighbors=35, weights=distance .................\n",
      "[CV]  metric=cosine, n_neighbors=35, weights=distance, score=0.1316776683660411, total=  12.7s\n",
      "[CV] metric=cosine, n_neighbors=35, weights=distance .................\n",
      "[CV]  metric=cosine, n_neighbors=35, weights=distance, score=0.07590730697197601, total=  13.2s\n",
      "[CV] metric=cosine, n_neighbors=35, weights=distance .................\n"
     ]
    },
    {
     "name": "stdout",
     "output_type": "stream",
     "text": [
      "[CV]  metric=cosine, n_neighbors=35, weights=distance, score=0.08969242863925198, total=  13.0s\n",
      "{'metric': 'euclidean', 'n_neighbors': 27, 'weights': 'distance'}\n",
      "Fitting 3 folds for each of 20 candidates, totalling 60 fits\n",
      "[CV] metric=euclidean, n_neighbors=27, weights=uniform ...............\n"
     ]
    },
    {
     "name": "stderr",
     "output_type": "stream",
     "text": [
      "[Parallel(n_jobs=1)]: Done  60 out of  60 | elapsed: 39.0min finished\n",
      "[Parallel(n_jobs=1)]: Using backend SequentialBackend with 1 concurrent workers.\n"
     ]
    },
    {
     "name": "stdout",
     "output_type": "stream",
     "text": [
      "[CV]  metric=euclidean, n_neighbors=27, weights=uniform, score=0.13367427705094226, total=  13.2s\n",
      "[CV] metric=euclidean, n_neighbors=27, weights=uniform ...............\n"
     ]
    },
    {
     "name": "stderr",
     "output_type": "stream",
     "text": [
      "[Parallel(n_jobs=1)]: Done   1 out of   1 | elapsed:   39.5s remaining:    0.0s\n"
     ]
    },
    {
     "name": "stdout",
     "output_type": "stream",
     "text": [
      "[CV]  metric=euclidean, n_neighbors=27, weights=uniform, score=0.07815497208766542, total=  12.9s\n",
      "[CV] metric=euclidean, n_neighbors=27, weights=uniform ...............\n"
     ]
    },
    {
     "name": "stderr",
     "output_type": "stream",
     "text": [
      "[Parallel(n_jobs=1)]: Done   2 out of   2 | elapsed:  1.3min remaining:    0.0s\n"
     ]
    },
    {
     "name": "stdout",
     "output_type": "stream",
     "text": [
      "[CV]  metric=euclidean, n_neighbors=27, weights=uniform, score=0.0785749100123837, total=  12.9s\n",
      "[CV] metric=euclidean, n_neighbors=27, weights=distance ..............\n"
     ]
    },
    {
     "name": "stderr",
     "output_type": "stream",
     "text": [
      "[Parallel(n_jobs=1)]: Done   3 out of   3 | elapsed:  2.0min remaining:    0.0s\n"
     ]
    },
    {
     "name": "stdout",
     "output_type": "stream",
     "text": [
      "[CV]  metric=euclidean, n_neighbors=27, weights=distance, score=0.14201681109755615, total=  13.2s\n",
      "[CV] metric=euclidean, n_neighbors=27, weights=distance ..............\n"
     ]
    },
    {
     "name": "stderr",
     "output_type": "stream",
     "text": [
      "[Parallel(n_jobs=1)]: Done   4 out of   4 | elapsed:  2.6min remaining:    0.0s\n"
     ]
    },
    {
     "name": "stdout",
     "output_type": "stream",
     "text": [
      "[CV]  metric=euclidean, n_neighbors=27, weights=distance, score=0.08113866499858147, total=  12.9s\n",
      "[CV] metric=euclidean, n_neighbors=27, weights=distance ..............\n"
     ]
    },
    {
     "name": "stderr",
     "output_type": "stream",
     "text": [
      "[Parallel(n_jobs=1)]: Done   5 out of   5 | elapsed:  3.3min remaining:    0.0s\n"
     ]
    },
    {
     "name": "stdout",
     "output_type": "stream",
     "text": [
      "[CV]  metric=euclidean, n_neighbors=27, weights=distance, score=0.08282126397518774, total=  12.9s\n",
      "[CV] metric=euclidean, n_neighbors=29, weights=uniform ...............\n"
     ]
    },
    {
     "name": "stderr",
     "output_type": "stream",
     "text": [
      "[Parallel(n_jobs=1)]: Done   6 out of   6 | elapsed:  3.9min remaining:    0.0s\n"
     ]
    },
    {
     "name": "stdout",
     "output_type": "stream",
     "text": [
      "[CV]  metric=euclidean, n_neighbors=29, weights=uniform, score=0.135512164646452, total=  13.1s\n",
      "[CV] metric=euclidean, n_neighbors=29, weights=uniform ...............\n"
     ]
    },
    {
     "name": "stderr",
     "output_type": "stream",
     "text": [
      "[Parallel(n_jobs=1)]: Done   7 out of   7 | elapsed:  4.6min remaining:    0.0s\n"
     ]
    },
    {
     "name": "stdout",
     "output_type": "stream",
     "text": [
      "[CV]  metric=euclidean, n_neighbors=29, weights=uniform, score=0.07817440202029469, total=  12.9s\n",
      "[CV] metric=euclidean, n_neighbors=29, weights=uniform ...............\n"
     ]
    },
    {
     "name": "stderr",
     "output_type": "stream",
     "text": [
      "[Parallel(n_jobs=1)]: Done   8 out of   8 | elapsed:  5.2min remaining:    0.0s\n"
     ]
    },
    {
     "name": "stdout",
     "output_type": "stream",
     "text": [
      "[CV]  metric=euclidean, n_neighbors=29, weights=uniform, score=0.08117823794609946, total=  12.9s\n",
      "[CV] metric=euclidean, n_neighbors=29, weights=distance ..............\n"
     ]
    },
    {
     "name": "stderr",
     "output_type": "stream",
     "text": [
      "[Parallel(n_jobs=1)]: Done   9 out of   9 | elapsed:  5.8min remaining:    0.0s\n"
     ]
    },
    {
     "name": "stdout",
     "output_type": "stream",
     "text": [
      "[CV]  metric=euclidean, n_neighbors=29, weights=distance, score=0.14362008214142463, total=  13.1s\n",
      "[CV] metric=euclidean, n_neighbors=29, weights=distance ..............\n"
     ]
    },
    {
     "name": "stderr",
     "output_type": "stream",
     "text": [
      "[Parallel(n_jobs=1)]: Done  10 out of  10 | elapsed:  6.5min remaining:    0.0s\n"
     ]
    },
    {
     "name": "stdout",
     "output_type": "stream",
     "text": [
      "[CV]  metric=euclidean, n_neighbors=29, weights=distance, score=0.08123708398282103, total=  12.9s\n",
      "[CV] metric=euclidean, n_neighbors=29, weights=distance ..............\n",
      "[CV]  metric=euclidean, n_neighbors=29, weights=distance, score=0.08526779099368942, total=  12.9s\n",
      "[CV] metric=euclidean, n_neighbors=31, weights=uniform ...............\n",
      "[CV]  metric=euclidean, n_neighbors=31, weights=uniform, score=0.13478083630764304, total=  13.2s\n",
      "[CV] metric=euclidean, n_neighbors=31, weights=uniform ...............\n",
      "[CV]  metric=euclidean, n_neighbors=31, weights=uniform, score=0.07775460690860181, total=  12.9s\n",
      "[CV] metric=euclidean, n_neighbors=31, weights=uniform ...............\n",
      "[CV]  metric=euclidean, n_neighbors=31, weights=uniform, score=0.08082116480074208, total=  13.0s\n",
      "[CV] metric=euclidean, n_neighbors=31, weights=distance ..............\n",
      "[CV]  metric=euclidean, n_neighbors=31, weights=distance, score=0.14281325743917395, total=  13.2s\n",
      "[CV] metric=euclidean, n_neighbors=31, weights=distance ..............\n",
      "[CV]  metric=euclidean, n_neighbors=31, weights=distance, score=0.08087404777705764, total=  12.9s\n",
      "[CV] metric=euclidean, n_neighbors=31, weights=distance ..............\n",
      "[CV]  metric=euclidean, n_neighbors=31, weights=distance, score=0.0850580894486127, total=  12.9s\n",
      "[CV] metric=euclidean, n_neighbors=33, weights=uniform ...............\n",
      "[CV]  metric=euclidean, n_neighbors=33, weights=uniform, score=0.13380208334200427, total=  13.2s\n",
      "[CV] metric=euclidean, n_neighbors=33, weights=uniform ...............\n",
      "[CV]  metric=euclidean, n_neighbors=33, weights=uniform, score=0.07738247973030199, total=  12.9s\n",
      "[CV] metric=euclidean, n_neighbors=33, weights=uniform ...............\n",
      "[CV]  metric=euclidean, n_neighbors=33, weights=uniform, score=0.08025519775012924, total=  12.9s\n",
      "[CV] metric=euclidean, n_neighbors=33, weights=distance ..............\n",
      "[CV]  metric=euclidean, n_neighbors=33, weights=distance, score=0.14168806983532212, total=  13.2s\n",
      "[CV] metric=euclidean, n_neighbors=33, weights=distance ..............\n",
      "[CV]  metric=euclidean, n_neighbors=33, weights=distance, score=0.08052400511262359, total=  12.9s\n",
      "[CV] metric=euclidean, n_neighbors=33, weights=distance ..............\n",
      "[CV]  metric=euclidean, n_neighbors=33, weights=distance, score=0.08445459268887656, total=  12.9s\n",
      "[CV] metric=euclidean, n_neighbors=35, weights=uniform ...............\n",
      "[CV]  metric=euclidean, n_neighbors=35, weights=uniform, score=0.1318168039709826, total=  13.2s\n",
      "[CV] metric=euclidean, n_neighbors=35, weights=uniform ...............\n",
      "[CV]  metric=euclidean, n_neighbors=35, weights=uniform, score=0.0761754422196631, total=  12.9s\n",
      "[CV] metric=euclidean, n_neighbors=35, weights=uniform ...............\n",
      "[CV]  metric=euclidean, n_neighbors=35, weights=uniform, score=0.07909299275048876, total=  12.9s\n",
      "[CV] metric=euclidean, n_neighbors=35, weights=distance ..............\n",
      "[CV]  metric=euclidean, n_neighbors=35, weights=distance, score=0.1400234391329137, total=  13.1s\n",
      "[CV] metric=euclidean, n_neighbors=35, weights=distance ..............\n",
      "[CV]  metric=euclidean, n_neighbors=35, weights=distance, score=0.07938503788705775, total=  12.8s\n",
      "[CV] metric=euclidean, n_neighbors=35, weights=distance ..............\n",
      "[CV]  metric=euclidean, n_neighbors=35, weights=distance, score=0.08325875725942344, total=  12.9s\n",
      "[CV] metric=cosine, n_neighbors=27, weights=uniform ..................\n",
      "[CV]  metric=cosine, n_neighbors=27, weights=uniform, score=0.12710052755745305, total=  12.8s\n",
      "[CV] metric=cosine, n_neighbors=27, weights=uniform ..................\n",
      "[CV]  metric=cosine, n_neighbors=27, weights=uniform, score=0.07482380333923389, total=  12.7s\n",
      "[CV] metric=cosine, n_neighbors=27, weights=uniform ..................\n",
      "[CV]  metric=cosine, n_neighbors=27, weights=uniform, score=0.07528346310620815, total=  12.7s\n",
      "[CV] metric=cosine, n_neighbors=27, weights=distance .................\n",
      "[CV]  metric=cosine, n_neighbors=27, weights=distance, score=0.14009966566175247, total=  12.9s\n",
      "[CV] metric=cosine, n_neighbors=27, weights=distance .................\n",
      "[CV]  metric=cosine, n_neighbors=27, weights=distance, score=0.08139728811143176, total=  12.7s\n",
      "[CV] metric=cosine, n_neighbors=27, weights=distance .................\n",
      "[CV]  metric=cosine, n_neighbors=27, weights=distance, score=0.08295526511759654, total=  12.7s\n",
      "[CV] metric=cosine, n_neighbors=29, weights=uniform ..................\n",
      "[CV]  metric=cosine, n_neighbors=29, weights=uniform, score=0.12493514101899438, total=  12.9s\n",
      "[CV] metric=cosine, n_neighbors=29, weights=uniform ..................\n",
      "[CV]  metric=cosine, n_neighbors=29, weights=uniform, score=0.07441913135842582, total=  12.8s\n",
      "[CV] metric=cosine, n_neighbors=29, weights=uniform ..................\n",
      "[CV]  metric=cosine, n_neighbors=29, weights=uniform, score=0.07510558082324736, total=  12.7s\n",
      "[CV] metric=cosine, n_neighbors=29, weights=distance .................\n",
      "[CV]  metric=cosine, n_neighbors=29, weights=distance, score=0.13846727259932656, total=  12.9s\n",
      "[CV] metric=cosine, n_neighbors=29, weights=distance .................\n",
      "[CV]  metric=cosine, n_neighbors=29, weights=distance, score=0.08099166731349394, total=  12.6s\n",
      "[CV] metric=cosine, n_neighbors=29, weights=distance .................\n",
      "[CV]  metric=cosine, n_neighbors=29, weights=distance, score=0.08282019531557594, total=  12.7s\n",
      "[CV] metric=cosine, n_neighbors=31, weights=uniform ..................\n",
      "[CV]  metric=cosine, n_neighbors=31, weights=uniform, score=0.1259677297625268, total=  12.8s\n",
      "[CV] metric=cosine, n_neighbors=31, weights=uniform ..................\n",
      "[CV]  metric=cosine, n_neighbors=31, weights=uniform, score=0.07434915568320466, total=  12.7s\n",
      "[CV] metric=cosine, n_neighbors=31, weights=uniform ..................\n",
      "[CV]  metric=cosine, n_neighbors=31, weights=uniform, score=0.07523794400032424, total=  12.7s\n",
      "[CV] metric=cosine, n_neighbors=31, weights=distance .................\n",
      "[CV]  metric=cosine, n_neighbors=31, weights=distance, score=0.13920936501727, total=  12.9s\n",
      "[CV] metric=cosine, n_neighbors=31, weights=distance .................\n",
      "[CV]  metric=cosine, n_neighbors=31, weights=distance, score=0.08088655490606667, total=  12.7s\n",
      "[CV] metric=cosine, n_neighbors=31, weights=distance .................\n",
      "[CV]  metric=cosine, n_neighbors=31, weights=distance, score=0.08300255999270567, total=  12.6s\n",
      "[CV] metric=cosine, n_neighbors=33, weights=uniform ..................\n",
      "[CV]  metric=cosine, n_neighbors=33, weights=uniform, score=0.1244961628505481, total=  12.9s\n",
      "[CV] metric=cosine, n_neighbors=33, weights=uniform ..................\n",
      "[CV]  metric=cosine, n_neighbors=33, weights=uniform, score=0.07434425365766495, total=  12.7s\n",
      "[CV] metric=cosine, n_neighbors=33, weights=uniform ..................\n",
      "[CV]  metric=cosine, n_neighbors=33, weights=uniform, score=0.07518790285793941, total=  12.7s\n",
      "[CV] metric=cosine, n_neighbors=33, weights=distance .................\n",
      "[CV]  metric=cosine, n_neighbors=33, weights=distance, score=0.13781325249398635, total=  12.9s\n",
      "[CV] metric=cosine, n_neighbors=33, weights=distance .................\n",
      "[CV]  metric=cosine, n_neighbors=33, weights=distance, score=0.08074123849420622, total=  12.7s\n",
      "[CV] metric=cosine, n_neighbors=33, weights=distance .................\n",
      "[CV]  metric=cosine, n_neighbors=33, weights=distance, score=0.08303651487865016, total=  12.7s\n",
      "[CV] metric=cosine, n_neighbors=35, weights=uniform ..................\n",
      "[CV]  metric=cosine, n_neighbors=35, weights=uniform, score=0.12271030409510852, total=  12.9s\n",
      "[CV] metric=cosine, n_neighbors=35, weights=uniform ..................\n",
      "[CV]  metric=cosine, n_neighbors=35, weights=uniform, score=0.07350411741177265, total=  12.7s\n",
      "[CV] metric=cosine, n_neighbors=35, weights=uniform ..................\n",
      "[CV]  metric=cosine, n_neighbors=35, weights=uniform, score=0.07510579657687011, total=  12.7s\n",
      "[CV] metric=cosine, n_neighbors=35, weights=distance .................\n",
      "[CV]  metric=cosine, n_neighbors=35, weights=distance, score=0.13626715371907927, total=  12.9s\n",
      "[CV] metric=cosine, n_neighbors=35, weights=distance .................\n",
      "[CV]  metric=cosine, n_neighbors=35, weights=distance, score=0.07999376035693484, total=  12.8s\n",
      "[CV] metric=cosine, n_neighbors=35, weights=distance .................\n"
     ]
    },
    {
     "name": "stdout",
     "output_type": "stream",
     "text": [
      "[CV]  metric=cosine, n_neighbors=35, weights=distance, score=0.08297355022233455, total=  12.7s\n",
      "{'metric': 'euclidean', 'n_neighbors': 29, 'weights': 'distance'}\n"
     ]
    },
    {
     "name": "stderr",
     "output_type": "stream",
     "text": [
      "[Parallel(n_jobs=1)]: Done  60 out of  60 | elapsed: 38.6min finished\n"
     ]
    }
   ],
   "source": [
    "# подбираем параметры\n",
    "grid_params = {\n",
    "    'n_neighbors': [27, 29, 31, 33, 35],\n",
    "    'weights': ['uniform', 'distance'],\n",
    "    'metric': ['euclidean', 'cosine']\n",
    "}\n",
    "\n",
    "gs = GridSearchCV(\n",
    "    KNeighborsRegressor(),\n",
    "    grid_params,\n",
    "    verbose = 11,\n",
    "    cv = 3,\n",
    "    n_jobs = 1\n",
    ")\n",
    "\n",
    "gs_results = gs.fit(vectorizer_train, y_train)\n",
    "print(gs_results.best_params_)\n",
    "\n",
    "gs_results = gs.fit(vectorizer_train_onehot, y_train)\n",
    "print(gs_results.best_params_)"
   ]
  },
  {
   "cell_type": "code",
   "execution_count": 92,
   "metadata": {},
   "outputs": [
    {
     "name": "stdout",
     "output_type": "stream",
     "text": [
      "RMSE: 203.4117\n"
     ]
    }
   ],
   "source": [
    "knnr = KNeighborsRegressor(n_neighbors = 29, metric = 'euclidean', weights = 'distance')\n",
    "knnr.fit(vectorizer_train_onehot, y_train)\n",
    "pred = knnr.predict(vectorizer_test_onehot)\n",
    "rmse = np.sqrt(mean_squared_error(y_test, pred))\n",
    "print(\"RMSE: %.4f\" % rmse)"
   ]
  },
  {
   "cell_type": "code",
   "execution_count": 84,
   "metadata": {},
   "outputs": [
    {
     "name": "stdout",
     "output_type": "stream",
     "text": [
      "Progress: [####################] 100.0%\n"
     ]
    },
    {
     "data": {
      "image/png": "[encoded data removed]",
      "text/plain": [
       "<Figure size 432x288 with 1 Axes>"
      ]
     },
     "metadata": {
      "needs_background": "light"
     },
     "output_type": "display_data"
    }
   ],
   "source": [
    "# Ваш код здесь\n",
    "\n",
    "k_max = 3\n",
    "cur_bar_position = 0\n",
    "res_matrix_length = k_max * len(metrics_array) * 2\n",
    "metrics_array = ['euclidean', 'cosine']\n",
    "res = np.zeros(res_matrix_length).reshape(k_max, len(metrics_array) * 2)\n",
    "process_bar_length = res_matrix_length\n",
    "cur_bar_position = 0\n",
    "update_progress(cur_bar_position / res_matrix_length)\n",
    "for t in range(len(['label', 'onehot'])):\n",
    "    for m in range(len(metrics_array)):\n",
    "        for k in range(0, k_max):\n",
    "            knnr = KNeighborsRegressor(n_neighbors = k + 1, metric = metrics_array[m], weights = 'distance')\n",
    "\n",
    "            if (t):\n",
    "                knnr.fit(vectorizer_train, y_train)\n",
    "                pred = knnr.predict(vectorizer_test)\n",
    "            else:\n",
    "                knnr.fit(vectorizer_train_onehot, y_train)\n",
    "                pred = knnr.predict(vectorizer_test_onehot)\n",
    "            \n",
    "            res[k][(t * len(metrics_array)) + m] = np.sqrt(mean_squared_error(y_test, pred))\n",
    "            cur_bar_position = cur_bar_position + 1\n",
    "            update_progress(cur_bar_position / res_matrix_length)\n",
    "\n",
    "plt.plot(res)\n",
    "plt.legend(['label euclidean', 'label cosine', 'onehot euclidean', 'onehot cosine'], loc='upper right')\n",
    "plt.show() "
   ]
  },
  {
   "cell_type": "code",
   "execution_count": 16,
   "metadata": {},
   "outputs": [
    {
     "name": "stdout",
     "output_type": "stream",
     "text": [
      "Минимальная ошибка RMSE: 216.8215\n"
     ]
    }
   ],
   "source": [
    "print(\"Минимальная ошибка RMSE: %.4f\" % np.min(res))"
   ]
  },
  {
   "cell_type": "markdown",
   "metadata": {},
   "source": [
    "## Часть 4: Выводы\n"
   ]
  },
  {
   "cell_type": "markdown",
   "metadata": {},
   "source": [
    "# Ваши выводы здесь (ノ°∀°)ノ⌒･*:.｡. .｡.:*･゜ﾟ･*☆\n",
    "\n",
    "Я \"вольный слушатель\" курса и моей целью является изучение ML. \n",
    "\n",
    "Когда я начал решать задание, я понял, что вообще не понимаю что и зачем я делаю. Потом я посмотрел как это работает в sklearn и многое проянилось. И так от задания к заданию, пока я наконец-таки не прешл к выводу, что мне нужно решить задачу на sklearn, и толкьо после этого углубляться в отдельный функционал.\n",
    "\n",
    "Собственно, так и делал. А именно:\n",
    "\n",
    "1. Исследовал и реализовал Эвклидову и Косинусную метрики. overlap, overlap_flattened, overlap_log не осилил (выдают не верные данные) и не понял где это в sklearn. \n",
    "\n",
    "2. Изучил кодирование категориальных признаков через LabelEncoder и OneHotEncoder. Ошибка на втором оказазалась ниже.\n",
    "\n",
    "3. Изучил алгоритмы кодирования текста \"Мешок слов\" и tfidf. Получил самый лучший результат на OneHot с косинусной метрикой.\n",
    "\n",
    "4. Собрал все в единый набор фич и получил на моделе RMSE = 203"
   ]
  },
  {
   "cell_type": "code",
   "execution_count": null,
   "metadata": {},
   "outputs": [],
   "source": []
  }
 ],
 "metadata": {
  "kernelspec": {
   "display_name": "Python 3",
   "language": "python",
   "name": "python3"
  },
  "language_info": {
   "codemirror_mode": {
    "name": "ipython",
    "version": 3
   },
   "file_extension": ".py",
   "mimetype": "text/x-python",
   "name": "python",
   "nbconvert_exporter": "python",
   "pygments_lexer": "ipython3",
   "version": "3.7.3"
  }
 },
 "nbformat": 4,
 "nbformat_minor": 1
}
