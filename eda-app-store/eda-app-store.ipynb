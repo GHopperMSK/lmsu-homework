{
 "cells": [
  {
   "cell_type": "code",
   "execution_count": 1,
   "metadata": {},
   "outputs": [],
   "source": [
    "import matplotlib.pyplot as plt\n",
    "import seaborn as sns\n",
    "import pandas as pd\n",
    "import numpy as np\n",
    "%matplotlib inline\n",
    "\n",
    "sns.set(style=\"darkgrid\")"
   ]
  },
  {
   "cell_type": "code",
   "execution_count": 2,
   "metadata": {},
   "outputs": [
    {
     "name": "stdout",
     "output_type": "stream",
     "text": [
      "<class 'pandas.core.frame.DataFrame'>\n",
      "RangeIndex: 7197 entries, 0 to 7196\n",
      "Data columns (total 17 columns):\n",
      "Unnamed: 0          7197 non-null int64\n",
      "id                  7197 non-null int64\n",
      "track_name          7197 non-null object\n",
      "size_bytes          7197 non-null int64\n",
      "currency            7197 non-null object\n",
      "price               7197 non-null float64\n",
      "rating_count_tot    7197 non-null int64\n",
      "rating_count_ver    7197 non-null int64\n",
      "user_rating         7197 non-null float64\n",
      "user_rating_ver     7197 non-null float64\n",
      "ver                 7197 non-null object\n",
      "cont_rating         7197 non-null object\n",
      "prime_genre         7197 non-null object\n",
      "sup_devices.num     7197 non-null int64\n",
      "ipadSc_urls.num     7197 non-null int64\n",
      "lang.num            7197 non-null int64\n",
      "vpp_lic             7197 non-null int64\n",
      "dtypes: float64(3), int64(9), object(5)\n",
      "memory usage: 955.9+ KB\n"
     ]
    }
   ],
   "source": [
    "appStoreData = pd.read_csv(\"AppleStore.csv\")\n",
    "appStoreData.info()"
   ]
  },
  {
   "cell_type": "markdown",
   "metadata": {},
   "source": [
    "| Колонка | Описание |\n",
    "| --- | --- |\n",
    "| id | App ID |\n",
    "| track_name | App Name |\n",
    "| size_bytes | Size (in Bytes) |\n",
    "| currency | Currency Type |\n",
    "| price | Price amount |\n",
    "| rating_count_tot | User Rating counts (for all version) |\n",
    "| rating_count_ver | User Rating counts (for current version) |\n",
    "| user_rating | Average User Rating value (for all version) |\n",
    "| user_rating_ver | Average User Rating value (for current version) |\n",
    "| ver | Latest version code |\n",
    "| cont_rating | Content Rating |\n",
    "| prime_genre | Primary Genre |\n",
    "| sup_devices.num | Number of supporting devices |\n",
    "| ipadSc_urls.num | Number of screenshots showed for display |\n",
    "| lang.num | Number of supported languages |\n",
    "| vpp_lic | Vpp Device Based Licensing Enabled |"
   ]
  },
  {
   "cell_type": "code",
   "execution_count": 3,
   "metadata": {},
   "outputs": [
    {
     "data": {
      "text/html": [
       "<div>\n",
       "<style scoped>\n",
       "    .dataframe tbody tr th:only-of-type {\n",
       "        vertical-align: middle;\n",
       "    }\n",
       "\n",
       "    .dataframe tbody tr th {\n",
       "        vertical-align: top;\n",
       "    }\n",
       "\n",
       "    .dataframe thead th {\n",
       "        text-align: right;\n",
       "    }\n",
       "</style>\n",
       "<table border=\"1\" class=\"dataframe\">\n",
       "  <thead>\n",
       "    <tr style=\"text-align: right;\">\n",
       "      <th></th>\n",
       "      <th>track_name</th>\n",
       "      <th>size_bytes</th>\n",
       "      <th>price</th>\n",
       "      <th>user_rating</th>\n",
       "      <th>prime_genre</th>\n",
       "    </tr>\n",
       "  </thead>\n",
       "  <tbody>\n",
       "    <tr>\n",
       "      <th>0</th>\n",
       "      <td>PAC-MAN Premium</td>\n",
       "      <td>100788224</td>\n",
       "      <td>3.99</td>\n",
       "      <td>4.0</td>\n",
       "      <td>Games</td>\n",
       "    </tr>\n",
       "    <tr>\n",
       "      <th>1</th>\n",
       "      <td>Evernote - stay organized</td>\n",
       "      <td>158578688</td>\n",
       "      <td>0.00</td>\n",
       "      <td>4.0</td>\n",
       "      <td>Productivity</td>\n",
       "    </tr>\n",
       "    <tr>\n",
       "      <th>2</th>\n",
       "      <td>WeatherBug - Local Weather, Radar, Maps, Alerts</td>\n",
       "      <td>100524032</td>\n",
       "      <td>0.00</td>\n",
       "      <td>3.5</td>\n",
       "      <td>Weather</td>\n",
       "    </tr>\n",
       "    <tr>\n",
       "      <th>3</th>\n",
       "      <td>eBay: Best App to Buy, Sell, Save! Online Shop...</td>\n",
       "      <td>128512000</td>\n",
       "      <td>0.00</td>\n",
       "      <td>4.0</td>\n",
       "      <td>Shopping</td>\n",
       "    </tr>\n",
       "    <tr>\n",
       "      <th>4</th>\n",
       "      <td>Bible</td>\n",
       "      <td>92774400</td>\n",
       "      <td>0.00</td>\n",
       "      <td>4.5</td>\n",
       "      <td>Reference</td>\n",
       "    </tr>\n",
       "  </tbody>\n",
       "</table>\n",
       "</div>"
      ],
      "text/plain": [
       "                                          track_name  size_bytes  price  \\\n",
       "0                                    PAC-MAN Premium   100788224   3.99   \n",
       "1                          Evernote - stay organized   158578688   0.00   \n",
       "2    WeatherBug - Local Weather, Radar, Maps, Alerts   100524032   0.00   \n",
       "3  eBay: Best App to Buy, Sell, Save! Online Shop...   128512000   0.00   \n",
       "4                                              Bible    92774400   0.00   \n",
       "\n",
       "   user_rating   prime_genre  \n",
       "0          4.0         Games  \n",
       "1          4.0  Productivity  \n",
       "2          3.5       Weather  \n",
       "3          4.0      Shopping  \n",
       "4          4.5     Reference  "
      ]
     },
     "execution_count": 3,
     "metadata": {},
     "output_type": "execute_result"
    }
   ],
   "source": [
    "representativeCols = ['track_name', 'size_bytes', 'price', 'user_rating', 'prime_genre']\n",
    "\n",
    "appStoreData[representativeCols].head()"
   ]
  },
  {
   "cell_type": "markdown",
   "metadata": {},
   "source": [
    "Есть подозрение, что первая колонки без имени и 'id' - уникальные идентификаторы записи. Если это так, тогда можно смело удалять колонку без имени и колонку id делать индексом нашего датасета."
   ]
  },
  {
   "cell_type": "code",
   "execution_count": 4,
   "metadata": {},
   "outputs": [
    {
     "name": "stdout",
     "output_type": "stream",
     "text": [
      "Total rows in dataset: 7197\n",
      "Unique items within 'id' column: 7197\n",
      "Unique items within unnamed column: 7197\n"
     ]
    }
   ],
   "source": [
    "totalRows = len(appStoreData.index)\n",
    "idColUnique = appStoreData['id'].unique().size\n",
    "unnamedColUnique = appStoreData.iloc[:,0].unique().size\n",
    "\n",
    "print(\"Total rows in dataset: %d\" % totalRows)\n",
    "print(\"Unique items within 'id' column: %d\" % idColUnique)\n",
    "print(\"Unique items within unnamed column: %d\" % unnamedColUnique)"
   ]
  },
  {
   "cell_type": "markdown",
   "metadata": {},
   "source": [
    "Видим, что кол-во уникальных записей в колонках равно общему количеству записей, следовательно обе колонки есть ни что иное, как уникальный идентификатор. Оставляем только одну."
   ]
  },
  {
   "cell_type": "code",
   "execution_count": 5,
   "metadata": {},
   "outputs": [
    {
     "data": {
      "text/html": [
       "<div>\n",
       "<style scoped>\n",
       "    .dataframe tbody tr th:only-of-type {\n",
       "        vertical-align: middle;\n",
       "    }\n",
       "\n",
       "    .dataframe tbody tr th {\n",
       "        vertical-align: top;\n",
       "    }\n",
       "\n",
       "    .dataframe thead th {\n",
       "        text-align: right;\n",
       "    }\n",
       "</style>\n",
       "<table border=\"1\" class=\"dataframe\">\n",
       "  <thead>\n",
       "    <tr style=\"text-align: right;\">\n",
       "      <th></th>\n",
       "      <th>track_name</th>\n",
       "      <th>size_bytes</th>\n",
       "      <th>price</th>\n",
       "      <th>user_rating</th>\n",
       "      <th>prime_genre</th>\n",
       "    </tr>\n",
       "    <tr>\n",
       "      <th>id</th>\n",
       "      <th></th>\n",
       "      <th></th>\n",
       "      <th></th>\n",
       "      <th></th>\n",
       "      <th></th>\n",
       "    </tr>\n",
       "  </thead>\n",
       "  <tbody>\n",
       "    <tr>\n",
       "      <th>281656475</th>\n",
       "      <td>PAC-MAN Premium</td>\n",
       "      <td>100788224</td>\n",
       "      <td>3.99</td>\n",
       "      <td>4.0</td>\n",
       "      <td>Games</td>\n",
       "    </tr>\n",
       "    <tr>\n",
       "      <th>281796108</th>\n",
       "      <td>Evernote - stay organized</td>\n",
       "      <td>158578688</td>\n",
       "      <td>0.00</td>\n",
       "      <td>4.0</td>\n",
       "      <td>Productivity</td>\n",
       "    </tr>\n",
       "    <tr>\n",
       "      <th>281940292</th>\n",
       "      <td>WeatherBug - Local Weather, Radar, Maps, Alerts</td>\n",
       "      <td>100524032</td>\n",
       "      <td>0.00</td>\n",
       "      <td>3.5</td>\n",
       "      <td>Weather</td>\n",
       "    </tr>\n",
       "    <tr>\n",
       "      <th>282614216</th>\n",
       "      <td>eBay: Best App to Buy, Sell, Save! Online Shop...</td>\n",
       "      <td>128512000</td>\n",
       "      <td>0.00</td>\n",
       "      <td>4.0</td>\n",
       "      <td>Shopping</td>\n",
       "    </tr>\n",
       "    <tr>\n",
       "      <th>282935706</th>\n",
       "      <td>Bible</td>\n",
       "      <td>92774400</td>\n",
       "      <td>0.00</td>\n",
       "      <td>4.5</td>\n",
       "      <td>Reference</td>\n",
       "    </tr>\n",
       "  </tbody>\n",
       "</table>\n",
       "</div>"
      ],
      "text/plain": [
       "                                                  track_name  size_bytes  \\\n",
       "id                                                                         \n",
       "281656475                                    PAC-MAN Premium   100788224   \n",
       "281796108                          Evernote - stay organized   158578688   \n",
       "281940292    WeatherBug - Local Weather, Radar, Maps, Alerts   100524032   \n",
       "282614216  eBay: Best App to Buy, Sell, Save! Online Shop...   128512000   \n",
       "282935706                                              Bible    92774400   \n",
       "\n",
       "           price  user_rating   prime_genre  \n",
       "id                                           \n",
       "281656475   3.99          4.0         Games  \n",
       "281796108   0.00          4.0  Productivity  \n",
       "281940292   0.00          3.5       Weather  \n",
       "282614216   0.00          4.0      Shopping  \n",
       "282935706   0.00          4.5     Reference  "
      ]
     },
     "execution_count": 5,
     "metadata": {},
     "output_type": "execute_result"
    }
   ],
   "source": [
    "appStoreData.drop(columns=[appStoreData.columns[0]], inplace = True)\n",
    "appStoreData.set_index(['id'], inplace = True)\n",
    "appStoreData[representativeCols].head()"
   ]
  },
  {
   "cell_type": "markdown",
   "metadata": {},
   "source": [
    "Посмотрим какие типы валют присутствую в данных:"
   ]
  },
  {
   "cell_type": "code",
   "execution_count": 6,
   "metadata": {},
   "outputs": [
    {
     "data": {
      "text/plain": [
       "array(['USD'], dtype=object)"
      ]
     },
     "execution_count": 6,
     "metadata": {},
     "output_type": "execute_result"
    }
   ],
   "source": [
    "appStoreData['currency'].unique()"
   ]
  },
  {
   "cell_type": "markdown",
   "metadata": {},
   "source": [
    "Т.к. валюта только одна и колонка не содержит NaN, то смело удаляем ее из данных"
   ]
  },
  {
   "cell_type": "code",
   "execution_count": 7,
   "metadata": {
    "scrolled": true
   },
   "outputs": [],
   "source": [
    "appStoreData.drop(columns=['currency'], inplace = True)"
   ]
  },
  {
   "cell_type": "markdown",
   "metadata": {},
   "source": [
    "Проанализируем данные по версиям приложений. Версии отличаются одинаковым значением *track_name* и разными значениями *user_rating_ver*"
   ]
  },
  {
   "cell_type": "code",
   "execution_count": 8,
   "metadata": {},
   "outputs": [
    {
     "data": {
      "text/html": [
       "<div>\n",
       "<style scoped>\n",
       "    .dataframe tbody tr th:only-of-type {\n",
       "        vertical-align: middle;\n",
       "    }\n",
       "\n",
       "    .dataframe tbody tr th {\n",
       "        vertical-align: top;\n",
       "    }\n",
       "\n",
       "    .dataframe thead th {\n",
       "        text-align: right;\n",
       "    }\n",
       "</style>\n",
       "<table border=\"1\" class=\"dataframe\">\n",
       "  <thead>\n",
       "    <tr style=\"text-align: right;\">\n",
       "      <th></th>\n",
       "      <th>user_rating_ver</th>\n",
       "    </tr>\n",
       "    <tr>\n",
       "      <th>track_name</th>\n",
       "      <th></th>\n",
       "    </tr>\n",
       "  </thead>\n",
       "  <tbody>\n",
       "    <tr>\n",
       "      <th>Mannequin Challenge</th>\n",
       "      <td>2</td>\n",
       "    </tr>\n",
       "    <tr>\n",
       "      <th>VR Roller Coaster</th>\n",
       "      <td>2</td>\n",
       "    </tr>\n",
       "    <tr>\n",
       "      <th>ｗｗｗ</th>\n",
       "      <td>1</td>\n",
       "    </tr>\n",
       "    <tr>\n",
       "      <th>Higher Higher!</th>\n",
       "      <td>1</td>\n",
       "    </tr>\n",
       "    <tr>\n",
       "      <th>Hidden Pictures by Highlights Magazine</th>\n",
       "      <td>1</td>\n",
       "    </tr>\n",
       "    <tr>\n",
       "      <th>Hidden World</th>\n",
       "      <td>1</td>\n",
       "    </tr>\n",
       "    <tr>\n",
       "      <th>Hidden my game by mom - escape room</th>\n",
       "      <td>1</td>\n",
       "    </tr>\n",
       "    <tr>\n",
       "      <th>Hide N Seek : Mini Multiplayer Game</th>\n",
       "      <td>1</td>\n",
       "    </tr>\n",
       "    <tr>\n",
       "      <th>Hide it Hillary!</th>\n",
       "      <td>1</td>\n",
       "    </tr>\n",
       "    <tr>\n",
       "      <th>High 5 Casino - Real Vegas Slots!</th>\n",
       "      <td>1</td>\n",
       "    </tr>\n",
       "  </tbody>\n",
       "</table>\n",
       "</div>"
      ],
      "text/plain": [
       "                                        user_rating_ver\n",
       "track_name                                             \n",
       "Mannequin Challenge                                   2\n",
       "VR Roller Coaster                                     2\n",
       "ｗｗｗ                                                   1\n",
       "Higher Higher!                                        1\n",
       "Hidden Pictures by Highlights Magazine                1\n",
       "Hidden World                                          1\n",
       "Hidden my game by mom - escape room                   1\n",
       "Hide N Seek : Mini Multiplayer Game                   1\n",
       "Hide it Hillary!                                      1\n",
       "High 5 Casino - Real Vegas Slots!                     1"
      ]
     },
     "execution_count": 8,
     "metadata": {},
     "output_type": "execute_result"
    }
   ],
   "source": [
    "pd.DataFrame(\n",
    "    appStoreData.groupby(['track_name'])['user_rating_ver'].count().sort_values(ascending=False)\n",
    ").head(10)"
   ]
  },
  {
   "cell_type": "markdown",
   "metadata": {},
   "source": [
    "Во всем датасете только два приложения с двумя версиями каждое. Абсолютно не информативная фича. Удаляем"
   ]
  },
  {
   "cell_type": "code",
   "execution_count": 9,
   "metadata": {},
   "outputs": [],
   "source": [
    "appStoreData.drop(columns=['user_rating_ver'], inplace = True)\n",
    "appStoreData.drop(columns=['rating_count_ver'], inplace = True)\n",
    "appStoreData.drop(columns=['ver'], inplace = True)\n",
    "# удаляем старые версии приложений\n",
    "appStoreData.drop([1089824278, 1178454060], inplace = True)"
   ]
  },
  {
   "cell_type": "markdown",
   "metadata": {},
   "source": [
    "### Описательные статистики"
   ]
  },
  {
   "cell_type": "code",
   "execution_count": 10,
   "metadata": {},
   "outputs": [
    {
     "name": "stdout",
     "output_type": "stream",
     "text": [
      "Feature           Mean          Mode         Median       Min     Max         Mid-range      STD         \n",
      "---------------------------------------------------------------------------------------------------------\n",
      "size_bytes        199148037.16  31624192.00  97153024.00  589824  4025969664  4025379840.00  359252734.57\n",
      "price             1.73          0.00         0.00         0.0     299.99      299.99         5.83        \n",
      "rating_count_tot  12896.47      0.00         300.00       0       2974676     2974676.00     75749.64    \n",
      "user_rating       3.53          4.50         4.00         0.0     5.0         5.00           1.52        \n",
      "sup_devices.num   37.36         37.00        37.00        9       47          38.00          3.74        \n",
      "ipadSc_urls.num   3.71          5.00         5.00         0       5           5.00           1.99        \n",
      "lang.num          5.44          1.00         1.00         0       75          75.00          7.92        \n",
      "vpp_lic           0.99          1.00         1.00         0       1           1.00           0.08        \n"
     ]
    }
   ],
   "source": [
    "numericFeatures = appStoreData.select_dtypes([np.number]).columns\n",
    "\n",
    "statsDict = {\n",
    "    feature: {\n",
    "        param: getattr(appStoreData[feature], param)()\n",
    "        for param in ['mean', 'mode', 'median', 'min', 'max', 'std']\n",
    "    }\n",
    "    for feature in numericFeatures\n",
    "}\n",
    "\n",
    "print(\"{:<17} {:<13} {:<12} {:<12} {:<7} {:<11} {:<14} {:<12}\".format(\n",
    "    'Feature', \n",
    "    'Mean', \n",
    "    'Mode', \n",
    "    'Median', \n",
    "    'Min', \n",
    "    'Max', \n",
    "    'Mid-range',\n",
    "    'STD')\n",
    ")\n",
    "print(\"-\" * 105)\n",
    "for feature in statsDict:\n",
    "    print(\"{:<17} {:<13.2f} {:<12.2f} {:<12.2f} {:<7} {:<11} {:<14.2f} {:<12.2f}\".format(\n",
    "        feature, \n",
    "        statsDict[feature]['mean'], \n",
    "        statsDict[feature]['mode'][0],\n",
    "        statsDict[feature]['median'], \n",
    "        statsDict[feature]['min'], \n",
    "        statsDict[feature]['max'], \n",
    "        statsDict[feature]['max'] - statsDict[feature]['min'],\n",
    "        statsDict[feature]['std'])\n",
    "    )"
   ]
  },
  {
   "cell_type": "markdown",
   "metadata": {},
   "source": [
    "### Ищем группы"
   ]
  },
  {
   "cell_type": "code",
   "execution_count": 11,
   "metadata": {},
   "outputs": [
    {
     "data": {
      "image/png": "[encoded data removed]",
      "text/plain": [
       "<Figure size 1152x288 with 3 Axes>"
      ]
     },
     "metadata": {
      "needs_background": "light"
     },
     "output_type": "display_data"
    }
   ],
   "source": [
    "fig, axs = plt.subplots(figsize=(16, 4), ncols=3)\n",
    "    \n",
    "axs[0].scatter(statsDict.keys(), appStoreData[statsDict.keys()].mean())\n",
    "axs[0].set_xlabel(\"$x$\")\n",
    "axs[0].set_ylabel(\"$mean$\")\n",
    "axs[0].set_xlabel(\"$feature$\")\n",
    "axs[0].xaxis.set_tick_params(rotation=45)\n",
    "axs[0].set_ylim(-1, 40)\n",
    "\n",
    "axs[1].scatter(statsDict.keys(), appStoreData[statsDict.keys()].std())\n",
    "axs[1].set_ylabel(\"$std$\")\n",
    "axs[1].set_xlabel(\"$feature$\")\n",
    "axs[1].xaxis.set_tick_params(rotation=45)\n",
    "axs[1].set_ylim(-1, 9)\n",
    "\n",
    "axs[2].scatter(appStoreData[statsDict.keys()].mean(), appStoreData[statsDict.keys()].std())\n",
    "axs[2].set_ylabel(\"$mean$\")\n",
    "axs[2].set_xlabel(\"$std$\")\n",
    "axs[2].xaxis.set_tick_params(rotation=45)\n",
    "axs[2].set_xlim(-1, 40)\n",
    "axs[2].set_ylim(-1, 9)\n",
    "\n",
    "plt.show()"
   ]
  },
  {
   "cell_type": "markdown",
   "metadata": {},
   "source": [
    "### Распределение приложений по категориям"
   ]
  },
  {
   "cell_type": "code",
   "execution_count": 12,
   "metadata": {},
   "outputs": [
    {
     "data": {
      "image/png": "[encoded data removed]",
      "text/plain": [
       "<Figure size 2160x1008 with 1 Axes>"
      ]
     },
     "metadata": {
      "needs_background": "light"
     },
     "output_type": "display_data"
    }
   ],
   "source": [
    "fig = plt.gcf()\n",
    "fig.set_size_inches(30,14)\n",
    "appStoreData.groupby(['prime_genre'])['track_name'].count().sort_values().plot(kind='barh', legend = False)\n",
    "plt.xlabel('Amount', fontsize=24)\n",
    "plt.ylabel('Category', fontsize=24)\n",
    "plt.xticks(fontsize=18, rotation=0)\n",
    "plt.yticks(fontsize=18, rotation=0)\n",
    "plt.show()"
   ]
  },
  {
   "cell_type": "markdown",
   "metadata": {},
   "source": [
    "### Анализ рейтингов"
   ]
  },
  {
   "cell_type": "code",
   "execution_count": 13,
   "metadata": {},
   "outputs": [
    {
     "data": {
      "image/png": "[encoded data removed]",
      "text/plain": [
       "<Figure size 1080x432 with 2 Axes>"
      ]
     },
     "metadata": {
      "needs_background": "light"
     },
     "output_type": "display_data"
    }
   ],
   "source": [
    "ratingCount = appStoreData.groupby(['user_rating'])['track_name'].count()\n",
    "ratingSum = appStoreData.groupby(['user_rating'])['rating_count_tot'].sum()\n",
    "\n",
    "fig, axs = plt.subplots(figsize=(15,6), ncols=2)\n",
    "axs[0].set_xlabel(\"оценка\")\n",
    "axs[0].set_ylabel(\"кол-во приложений\")\n",
    "# axs[0].hist(appStoreData['user_rating'], 11)\n",
    "axs[0].bar(ratingCount.index.values, ratingCount, 0.4)\n",
    "\n",
    "axs[1].set_xlabel(\"оценка\")\n",
    "axs[1].set_ylabel(\"кол-во  голосов\")\n",
    "axs[1].bar(ratingSum.index.values, ratingSum, 0.4)\n",
    "\n",
    "plt.show()"
   ]
  },
  {
   "cell_type": "markdown",
   "metadata": {},
   "source": [
    "### Зависимость пользовательского рейтинга от цены"
   ]
  },
  {
   "cell_type": "code",
   "execution_count": 14,
   "metadata": {},
   "outputs": [
    {
     "data": {
      "image/png": "[encoded data removed]",
      "text/plain": [
       "<Figure size 432x432 with 3 Axes>"
      ]
     },
     "metadata": {
      "needs_background": "light"
     },
     "output_type": "display_data"
    }
   ],
   "source": [
    "sns.jointplot(x='user_rating', y='price', data=appStoreData)\n",
    "plt.show()"
   ]
  },
  {
   "cell_type": "markdown",
   "metadata": {},
   "source": [
    "### Зависимость размера приложения от количества поддерживаемых языков"
   ]
  },
  {
   "cell_type": "code",
   "execution_count": 15,
   "metadata": {},
   "outputs": [
    {
     "data": {
      "image/png": "[encoded data removed]",
      "text/plain": [
       "<Figure size 432x432 with 3 Axes>"
      ]
     },
     "metadata": {
      "needs_background": "light"
     },
     "output_type": "display_data"
    }
   ],
   "source": [
    "sns.jointplot(x='size_bytes', y='lang.num', data=appStoreData)\n",
    "plt.show()"
   ]
  },
  {
   "cell_type": "code",
   "execution_count": 46,
   "metadata": {},
   "outputs": [
    {
     "data": {
      "image/png": "[encoded data removed]",
      "text/plain": [
       "<Figure size 432x288 with 1 Axes>"
      ]
     },
     "metadata": {
      "needs_background": "light"
     },
     "output_type": "display_data"
    }
   ],
   "source": [
    "plt.bar(\n",
    "    list(appStoreData['cont_rating'].unique()), \n",
    "    appStoreData.groupby(['cont_rating'])['track_name'].count().sort_values()\n",
    ")\n",
    "plt.xlabel('рейтинг')\n",
    "plt.ylabel('кол-во приложений')\n",
    "plt.show()"
   ]
  },
  {
   "cell_type": "markdown",
   "metadata": {},
   "source": [
    "### Зависимость значения оценки от кол-ва оценок"
   ]
  },
  {
   "cell_type": "code",
   "execution_count": 17,
   "metadata": {},
   "outputs": [
    {
     "data": {
      "text/html": [
       "<div>\n",
       "<style scoped>\n",
       "    .dataframe tbody tr th:only-of-type {\n",
       "        vertical-align: middle;\n",
       "    }\n",
       "\n",
       "    .dataframe tbody tr th {\n",
       "        vertical-align: top;\n",
       "    }\n",
       "\n",
       "    .dataframe thead th {\n",
       "        text-align: right;\n",
       "    }\n",
       "</style>\n",
       "<table border=\"1\" class=\"dataframe\">\n",
       "  <thead>\n",
       "    <tr style=\"text-align: right;\">\n",
       "      <th></th>\n",
       "      <th>track_name</th>\n",
       "      <th>size_bytes</th>\n",
       "      <th>price</th>\n",
       "      <th>rating_count_tot</th>\n",
       "      <th>user_rating</th>\n",
       "      <th>cont_rating</th>\n",
       "      <th>prime_genre</th>\n",
       "      <th>sup_devices.num</th>\n",
       "      <th>ipadSc_urls.num</th>\n",
       "      <th>lang.num</th>\n",
       "      <th>vpp_lic</th>\n",
       "    </tr>\n",
       "    <tr>\n",
       "      <th>id</th>\n",
       "      <th></th>\n",
       "      <th></th>\n",
       "      <th></th>\n",
       "      <th></th>\n",
       "      <th></th>\n",
       "      <th></th>\n",
       "      <th></th>\n",
       "      <th></th>\n",
       "      <th></th>\n",
       "      <th></th>\n",
       "      <th></th>\n",
       "    </tr>\n",
       "  </thead>\n",
       "  <tbody>\n",
       "    <tr>\n",
       "      <th>281656475</th>\n",
       "      <td>PAC-MAN Premium</td>\n",
       "      <td>100788224</td>\n",
       "      <td>3.99</td>\n",
       "      <td>21292</td>\n",
       "      <td>4.0</td>\n",
       "      <td>4+</td>\n",
       "      <td>Games</td>\n",
       "      <td>38</td>\n",
       "      <td>5</td>\n",
       "      <td>10</td>\n",
       "      <td>1</td>\n",
       "    </tr>\n",
       "    <tr>\n",
       "      <th>281796108</th>\n",
       "      <td>Evernote - stay organized</td>\n",
       "      <td>158578688</td>\n",
       "      <td>0.00</td>\n",
       "      <td>161065</td>\n",
       "      <td>4.0</td>\n",
       "      <td>4+</td>\n",
       "      <td>Productivity</td>\n",
       "      <td>37</td>\n",
       "      <td>5</td>\n",
       "      <td>23</td>\n",
       "      <td>1</td>\n",
       "    </tr>\n",
       "    <tr>\n",
       "      <th>281940292</th>\n",
       "      <td>WeatherBug - Local Weather, Radar, Maps, Alerts</td>\n",
       "      <td>100524032</td>\n",
       "      <td>0.00</td>\n",
       "      <td>188583</td>\n",
       "      <td>3.5</td>\n",
       "      <td>4+</td>\n",
       "      <td>Weather</td>\n",
       "      <td>37</td>\n",
       "      <td>5</td>\n",
       "      <td>3</td>\n",
       "      <td>1</td>\n",
       "    </tr>\n",
       "    <tr>\n",
       "      <th>282614216</th>\n",
       "      <td>eBay: Best App to Buy, Sell, Save! Online Shop...</td>\n",
       "      <td>128512000</td>\n",
       "      <td>0.00</td>\n",
       "      <td>262241</td>\n",
       "      <td>4.0</td>\n",
       "      <td>12+</td>\n",
       "      <td>Shopping</td>\n",
       "      <td>37</td>\n",
       "      <td>5</td>\n",
       "      <td>9</td>\n",
       "      <td>1</td>\n",
       "    </tr>\n",
       "    <tr>\n",
       "      <th>282935706</th>\n",
       "      <td>Bible</td>\n",
       "      <td>92774400</td>\n",
       "      <td>0.00</td>\n",
       "      <td>985920</td>\n",
       "      <td>4.5</td>\n",
       "      <td>4+</td>\n",
       "      <td>Reference</td>\n",
       "      <td>37</td>\n",
       "      <td>5</td>\n",
       "      <td>45</td>\n",
       "      <td>1</td>\n",
       "    </tr>\n",
       "  </tbody>\n",
       "</table>\n",
       "</div>"
      ],
      "text/plain": [
       "                                                  track_name  size_bytes  \\\n",
       "id                                                                         \n",
       "281656475                                    PAC-MAN Premium   100788224   \n",
       "281796108                          Evernote - stay organized   158578688   \n",
       "281940292    WeatherBug - Local Weather, Radar, Maps, Alerts   100524032   \n",
       "282614216  eBay: Best App to Buy, Sell, Save! Online Shop...   128512000   \n",
       "282935706                                              Bible    92774400   \n",
       "\n",
       "           price  rating_count_tot  user_rating cont_rating   prime_genre  \\\n",
       "id                                                                          \n",
       "281656475   3.99             21292          4.0          4+         Games   \n",
       "281796108   0.00            161065          4.0          4+  Productivity   \n",
       "281940292   0.00            188583          3.5          4+       Weather   \n",
       "282614216   0.00            262241          4.0         12+      Shopping   \n",
       "282935706   0.00            985920          4.5          4+     Reference   \n",
       "\n",
       "           sup_devices.num  ipadSc_urls.num  lang.num  vpp_lic  \n",
       "id                                                              \n",
       "281656475               38                5        10        1  \n",
       "281796108               37                5        23        1  \n",
       "281940292               37                5         3        1  \n",
       "282614216               37                5         9        1  \n",
       "282935706               37                5        45        1  "
      ]
     },
     "execution_count": 17,
     "metadata": {},
     "output_type": "execute_result"
    }
   ],
   "source": [
    "appStoreData.head()"
   ]
  }
 ],
 "metadata": {
  "kernelspec": {
   "display_name": "Python 3",
   "language": "python",
   "name": "python3"
  },
  "language_info": {
   "codemirror_mode": {
    "name": "ipython",
    "version": 3
   },
   "file_extension": ".py",
   "mimetype": "text/x-python",
   "name": "python",
   "nbconvert_exporter": "python",
   "pygments_lexer": "ipython3",
   "version": "3.7.3"
  }
 },
 "nbformat": 4,
 "nbformat_minor": 2
}
